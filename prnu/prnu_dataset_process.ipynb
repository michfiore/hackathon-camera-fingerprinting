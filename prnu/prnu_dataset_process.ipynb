{
 "cells": [
  {
   "cell_type": "code",
   "execution_count": 1,
   "metadata": {},
   "outputs": [],
   "source": [
    "import datasets\n",
    "import numpy as np\n",
    "import pandas as pd\n",
    "from tqdm.auto import tqdm\n",
    "import os"
   ]
  },
  {
   "cell_type": "code",
   "execution_count": 2,
   "metadata": {},
   "outputs": [],
   "source": [
    "import matplotlib.pyplot as plt"
   ]
  },
  {
   "cell_type": "code",
   "execution_count": 3,
   "metadata": {},
   "outputs": [],
   "source": [
    "ds_uri = 's3://sagemaker-production-eu-central-1-kl-biometric-datasets/raw_datasets/face_biometrics/hackathon_2025-07_camera_fingerprint/'\n",
    "output_parquet_path = 'output.parquet'"
   ]
  },
  {
   "cell_type": "code",
   "execution_count": 4,
   "metadata": {},
   "outputs": [
    {
     "name": "stdout",
     "output_type": "stream",
     "text": [
      "CPU times: user 2.74 s, sys: 2.56 s, total: 5.3 s\n",
      "Wall time: 7.05 s\n"
     ]
    },
    {
     "data": {
      "text/plain": [
       "64823"
      ]
     },
     "execution_count": 4,
     "metadata": {},
     "output_type": "execute_result"
    }
   ],
   "source": [
    "%%time\n",
    "ds = datasets.load_from_disk(ds_uri)\n",
    "len(ds)"
   ]
  },
  {
   "cell_type": "code",
   "execution_count": 5,
   "metadata": {},
   "outputs": [
    {
     "name": "stdout",
     "output_type": "stream",
     "text": [
      "(64823, 65)\n",
      "CPU times: user 669 ms, sys: 1.11 s, total: 1.78 s\n",
      "Wall time: 1.75 s\n"
     ]
    },
    {
     "data": {
      "text/html": [
       "<div>\n",
       "<style scoped>\n",
       "    .dataframe tbody tr th:only-of-type {\n",
       "        vertical-align: middle;\n",
       "    }\n",
       "\n",
       "    .dataframe tbody tr th {\n",
       "        vertical-align: top;\n",
       "    }\n",
       "\n",
       "    .dataframe thead th {\n",
       "        text-align: right;\n",
       "    }\n",
       "</style>\n",
       "<table border=\"1\" class=\"dataframe\">\n",
       "  <thead>\n",
       "    <tr style=\"text-align: right;\">\n",
       "      <th></th>\n",
       "      <th>img_raw</th>\n",
       "      <th>photo_name</th>\n",
       "      <th>subject_name</th>\n",
       "      <th>session_folder</th>\n",
       "      <th>dataset_name</th>\n",
       "      <th>is_genuine_attempt</th>\n",
       "      <th>is_spoof</th>\n",
       "      <th>attack_type</th>\n",
       "      <th>datacollection_start_timestamp_s</th>\n",
       "      <th>attack_filename</th>\n",
       "      <th>...</th>\n",
       "      <th>browser_name</th>\n",
       "      <th>device_model</th>\n",
       "      <th>device_vendor</th>\n",
       "      <th>os_name</th>\n",
       "      <th>os_version</th>\n",
       "      <th>user_device_camera</th>\n",
       "      <th>split</th>\n",
       "      <th>img_w</th>\n",
       "      <th>img_h</th>\n",
       "      <th>img_wh</th>\n",
       "    </tr>\n",
       "  </thead>\n",
       "  <tbody>\n",
       "    <tr>\n",
       "      <th>0</th>\n",
       "      <td>{'bytes': b'\\xff\\xd8\\xff\\xe0\\x00\\x10JFIF\\x00\\x...</td>\n",
       "      <td>flavio@keyless.io_flavio@keyless.io-1751283476...</td>\n",
       "      <td>flavio@keyless.io</td>\n",
       "      <td>flavio@keyless.io_1751283476142_1.0.8</td>\n",
       "      <td>web_internal_dc_2025-06-12</td>\n",
       "      <td>True</td>\n",
       "      <td>False</td>\n",
       "      <td>genuine</td>\n",
       "      <td>1.751283e+09</td>\n",
       "      <td>None</td>\n",
       "      <td>...</td>\n",
       "      <td>Chrome</td>\n",
       "      <td>Macintosh</td>\n",
       "      <td>Apple</td>\n",
       "      <td>macOS</td>\n",
       "      <td>10.15.7</td>\n",
       "      <td>flavio@keyless.io___d785486b21be655650933327b9...</td>\n",
       "      <td>train</td>\n",
       "      <td>640</td>\n",
       "      <td>480</td>\n",
       "      <td>640x480</td>\n",
       "    </tr>\n",
       "    <tr>\n",
       "      <th>1</th>\n",
       "      <td>{'bytes': b'\\xff\\xd8\\xff\\xe0\\x00\\x10JFIF\\x00\\x...</td>\n",
       "      <td>flavio@keyless.io_flavio@keyless.io-1751283476...</td>\n",
       "      <td>flavio@keyless.io</td>\n",
       "      <td>flavio@keyless.io_1751283476142_1.0.8</td>\n",
       "      <td>web_internal_dc_2025-06-12</td>\n",
       "      <td>True</td>\n",
       "      <td>False</td>\n",
       "      <td>genuine</td>\n",
       "      <td>1.751283e+09</td>\n",
       "      <td>None</td>\n",
       "      <td>...</td>\n",
       "      <td>Chrome</td>\n",
       "      <td>Macintosh</td>\n",
       "      <td>Apple</td>\n",
       "      <td>macOS</td>\n",
       "      <td>10.15.7</td>\n",
       "      <td>flavio@keyless.io___d785486b21be655650933327b9...</td>\n",
       "      <td>train</td>\n",
       "      <td>640</td>\n",
       "      <td>480</td>\n",
       "      <td>640x480</td>\n",
       "    </tr>\n",
       "    <tr>\n",
       "      <th>2</th>\n",
       "      <td>{'bytes': b'\\xff\\xd8\\xff\\xe0\\x00\\x10JFIF\\x00\\x...</td>\n",
       "      <td>flavio@keyless.io_flavio@keyless.io-1751283476...</td>\n",
       "      <td>flavio@keyless.io</td>\n",
       "      <td>flavio@keyless.io_1751283476142_1.0.8</td>\n",
       "      <td>web_internal_dc_2025-06-12</td>\n",
       "      <td>True</td>\n",
       "      <td>False</td>\n",
       "      <td>genuine</td>\n",
       "      <td>1.751283e+09</td>\n",
       "      <td>None</td>\n",
       "      <td>...</td>\n",
       "      <td>Chrome</td>\n",
       "      <td>Macintosh</td>\n",
       "      <td>Apple</td>\n",
       "      <td>macOS</td>\n",
       "      <td>10.15.7</td>\n",
       "      <td>flavio@keyless.io___d785486b21be655650933327b9...</td>\n",
       "      <td>train</td>\n",
       "      <td>640</td>\n",
       "      <td>480</td>\n",
       "      <td>640x480</td>\n",
       "    </tr>\n",
       "  </tbody>\n",
       "</table>\n",
       "<p>3 rows × 65 columns</p>\n",
       "</div>"
      ],
      "text/plain": [
       "                                             img_raw  \\\n",
       "0  {'bytes': b'\\xff\\xd8\\xff\\xe0\\x00\\x10JFIF\\x00\\x...   \n",
       "1  {'bytes': b'\\xff\\xd8\\xff\\xe0\\x00\\x10JFIF\\x00\\x...   \n",
       "2  {'bytes': b'\\xff\\xd8\\xff\\xe0\\x00\\x10JFIF\\x00\\x...   \n",
       "\n",
       "                                          photo_name       subject_name  \\\n",
       "0  flavio@keyless.io_flavio@keyless.io-1751283476...  flavio@keyless.io   \n",
       "1  flavio@keyless.io_flavio@keyless.io-1751283476...  flavio@keyless.io   \n",
       "2  flavio@keyless.io_flavio@keyless.io-1751283476...  flavio@keyless.io   \n",
       "\n",
       "                          session_folder                dataset_name  \\\n",
       "0  flavio@keyless.io_1751283476142_1.0.8  web_internal_dc_2025-06-12   \n",
       "1  flavio@keyless.io_1751283476142_1.0.8  web_internal_dc_2025-06-12   \n",
       "2  flavio@keyless.io_1751283476142_1.0.8  web_internal_dc_2025-06-12   \n",
       "\n",
       "   is_genuine_attempt  is_spoof attack_type  datacollection_start_timestamp_s  \\\n",
       "0                True     False     genuine                      1.751283e+09   \n",
       "1                True     False     genuine                      1.751283e+09   \n",
       "2                True     False     genuine                      1.751283e+09   \n",
       "\n",
       "  attack_filename  ... browser_name device_model device_vendor os_name  \\\n",
       "0            None  ...       Chrome    Macintosh         Apple   macOS   \n",
       "1            None  ...       Chrome    Macintosh         Apple   macOS   \n",
       "2            None  ...       Chrome    Macintosh         Apple   macOS   \n",
       "\n",
       "  os_version                                 user_device_camera  split img_w  \\\n",
       "0    10.15.7  flavio@keyless.io___d785486b21be655650933327b9...  train   640   \n",
       "1    10.15.7  flavio@keyless.io___d785486b21be655650933327b9...  train   640   \n",
       "2    10.15.7  flavio@keyless.io___d785486b21be655650933327b9...  train   640   \n",
       "\n",
       "  img_h   img_wh  \n",
       "0   480  640x480  \n",
       "1   480  640x480  \n",
       "2   480  640x480  \n",
       "\n",
       "[3 rows x 65 columns]"
      ]
     },
     "execution_count": 5,
     "metadata": {},
     "output_type": "execute_result"
    }
   ],
   "source": [
    "%%time\n",
    "df = ds.to_pandas()\n",
    "print(df.shape)\n",
    "df.head(3)"
   ]
  },
  {
   "cell_type": "code",
   "execution_count": 6,
   "metadata": {},
   "outputs": [
    {
     "data": {
      "text/html": [
       "<div>\n",
       "<style scoped>\n",
       "    .dataframe tbody tr th:only-of-type {\n",
       "        vertical-align: middle;\n",
       "    }\n",
       "\n",
       "    .dataframe tbody tr th {\n",
       "        vertical-align: top;\n",
       "    }\n",
       "\n",
       "    .dataframe thead th {\n",
       "        text-align: right;\n",
       "    }\n",
       "</style>\n",
       "<table border=\"1\" class=\"dataframe\">\n",
       "  <thead>\n",
       "    <tr style=\"text-align: right;\">\n",
       "      <th></th>\n",
       "      <th>subject_name</th>\n",
       "      <th>session_folder</th>\n",
       "      <th>photo_name</th>\n",
       "      <th>gif_link</th>\n",
       "      <th>file_timestamp_within_session_ms</th>\n",
       "      <th>frame_number</th>\n",
       "      <th>device_metadata</th>\n",
       "      <th>camera_device_id</th>\n",
       "      <th>camera_label</th>\n",
       "      <th>user_device_camera</th>\n",
       "      <th>split</th>\n",
       "      <th>os_name</th>\n",
       "      <th>os_version</th>\n",
       "      <th>img_w</th>\n",
       "      <th>img_h</th>\n",
       "      <th>img_wh</th>\n",
       "      <th>img_raw</th>\n",
       "    </tr>\n",
       "  </thead>\n",
       "  <tbody>\n",
       "    <tr>\n",
       "      <th>0</th>\n",
       "      <td>flavio@keyless.io</td>\n",
       "      <td>flavio@keyless.io_1751283476142_1.0.8</td>\n",
       "      <td>flavio@keyless.io_flavio@keyless.io-1751283476...</td>\n",
       "      <td>https://storage.cloud.google.com/kl-cloud-func...</td>\n",
       "      <td>0.0</td>\n",
       "      <td>0.0</td>\n",
       "      <td>{\"media\": {\"track\": {\"capabilities\": {\"aspectR...</td>\n",
       "      <td>d785486b21be655650933327b9b5295bcfa607f7a879d5...</td>\n",
       "      <td>MacBook Air Camera (0000:0001)</td>\n",
       "      <td>flavio@keyless.io___d785486b21be655650933327b9...</td>\n",
       "      <td>train</td>\n",
       "      <td>macOS</td>\n",
       "      <td>10.15.7</td>\n",
       "      <td>640</td>\n",
       "      <td>480</td>\n",
       "      <td>640x480</td>\n",
       "      <td>{'bytes': b'\\xff\\xd8\\xff\\xe0\\x00\\x10JFIF\\x00\\x...</td>\n",
       "    </tr>\n",
       "    <tr>\n",
       "      <th>1</th>\n",
       "      <td>flavio@keyless.io</td>\n",
       "      <td>flavio@keyless.io_1751283476142_1.0.8</td>\n",
       "      <td>flavio@keyless.io_flavio@keyless.io-1751283476...</td>\n",
       "      <td>https://storage.cloud.google.com/kl-cloud-func...</td>\n",
       "      <td>299.0</td>\n",
       "      <td>6.0</td>\n",
       "      <td>{\"media\": {\"track\": {\"capabilities\": {\"aspectR...</td>\n",
       "      <td>d785486b21be655650933327b9b5295bcfa607f7a879d5...</td>\n",
       "      <td>MacBook Air Camera (0000:0001)</td>\n",
       "      <td>flavio@keyless.io___d785486b21be655650933327b9...</td>\n",
       "      <td>train</td>\n",
       "      <td>macOS</td>\n",
       "      <td>10.15.7</td>\n",
       "      <td>640</td>\n",
       "      <td>480</td>\n",
       "      <td>640x480</td>\n",
       "      <td>{'bytes': b'\\xff\\xd8\\xff\\xe0\\x00\\x10JFIF\\x00\\x...</td>\n",
       "    </tr>\n",
       "    <tr>\n",
       "      <th>2</th>\n",
       "      <td>flavio@keyless.io</td>\n",
       "      <td>flavio@keyless.io_1751283476142_1.0.8</td>\n",
       "      <td>flavio@keyless.io_flavio@keyless.io-1751283476...</td>\n",
       "      <td>https://storage.cloud.google.com/kl-cloud-func...</td>\n",
       "      <td>599.0</td>\n",
       "      <td>12.0</td>\n",
       "      <td>{\"media\": {\"track\": {\"capabilities\": {\"aspectR...</td>\n",
       "      <td>d785486b21be655650933327b9b5295bcfa607f7a879d5...</td>\n",
       "      <td>MacBook Air Camera (0000:0001)</td>\n",
       "      <td>flavio@keyless.io___d785486b21be655650933327b9...</td>\n",
       "      <td>train</td>\n",
       "      <td>macOS</td>\n",
       "      <td>10.15.7</td>\n",
       "      <td>640</td>\n",
       "      <td>480</td>\n",
       "      <td>640x480</td>\n",
       "      <td>{'bytes': b'\\xff\\xd8\\xff\\xe0\\x00\\x10JFIF\\x00\\x...</td>\n",
       "    </tr>\n",
       "    <tr>\n",
       "      <th>3</th>\n",
       "      <td>flavio@keyless.io</td>\n",
       "      <td>flavio@keyless.io_1751283476142_1.0.8</td>\n",
       "      <td>flavio@keyless.io_flavio@keyless.io-1751283476...</td>\n",
       "      <td>https://storage.cloud.google.com/kl-cloud-func...</td>\n",
       "      <td>899.0</td>\n",
       "      <td>18.0</td>\n",
       "      <td>{\"media\": {\"track\": {\"capabilities\": {\"aspectR...</td>\n",
       "      <td>d785486b21be655650933327b9b5295bcfa607f7a879d5...</td>\n",
       "      <td>MacBook Air Camera (0000:0001)</td>\n",
       "      <td>flavio@keyless.io___d785486b21be655650933327b9...</td>\n",
       "      <td>train</td>\n",
       "      <td>macOS</td>\n",
       "      <td>10.15.7</td>\n",
       "      <td>640</td>\n",
       "      <td>480</td>\n",
       "      <td>640x480</td>\n",
       "      <td>{'bytes': b'\\xff\\xd8\\xff\\xe0\\x00\\x10JFIF\\x00\\x...</td>\n",
       "    </tr>\n",
       "    <tr>\n",
       "      <th>4</th>\n",
       "      <td>flavio@keyless.io</td>\n",
       "      <td>flavio@keyless.io_1751283476142_1.0.8</td>\n",
       "      <td>flavio@keyless.io_flavio@keyless.io-1751283476...</td>\n",
       "      <td>https://storage.cloud.google.com/kl-cloud-func...</td>\n",
       "      <td>1149.0</td>\n",
       "      <td>23.0</td>\n",
       "      <td>{\"media\": {\"track\": {\"capabilities\": {\"aspectR...</td>\n",
       "      <td>d785486b21be655650933327b9b5295bcfa607f7a879d5...</td>\n",
       "      <td>MacBook Air Camera (0000:0001)</td>\n",
       "      <td>flavio@keyless.io___d785486b21be655650933327b9...</td>\n",
       "      <td>train</td>\n",
       "      <td>macOS</td>\n",
       "      <td>10.15.7</td>\n",
       "      <td>640</td>\n",
       "      <td>480</td>\n",
       "      <td>640x480</td>\n",
       "      <td>{'bytes': b'\\xff\\xd8\\xff\\xe0\\x00\\x10JFIF\\x00\\x...</td>\n",
       "    </tr>\n",
       "    <tr>\n",
       "      <th>...</th>\n",
       "      <td>...</td>\n",
       "      <td>...</td>\n",
       "      <td>...</td>\n",
       "      <td>...</td>\n",
       "      <td>...</td>\n",
       "      <td>...</td>\n",
       "      <td>...</td>\n",
       "      <td>...</td>\n",
       "      <td>...</td>\n",
       "      <td>...</td>\n",
       "      <td>...</td>\n",
       "      <td>...</td>\n",
       "      <td>...</td>\n",
       "      <td>...</td>\n",
       "      <td>...</td>\n",
       "      <td>...</td>\n",
       "      <td>...</td>\n",
       "    </tr>\n",
       "    <tr>\n",
       "      <th>64818</th>\n",
       "      <td>antonio.epifani@keyless.io</td>\n",
       "      <td>antonio.epifani@keyless.io_1751372521985_1.0.8</td>\n",
       "      <td>antonio.epifani@keyless.io_antonio.epifani@key...</td>\n",
       "      <td>https://storage.cloud.google.com/kl-cloud-func...</td>\n",
       "      <td>8800.0</td>\n",
       "      <td>175.0</td>\n",
       "      <td>{\"media\": {\"track\": {\"capabilities\": {\"aspectR...</td>\n",
       "      <td>1BA7B61A89880176866F8533D603036EB3252C12</td>\n",
       "      <td>Fotocamera anteriore</td>\n",
       "      <td>antonio.epifani@keyless.io___1BA7B61A898801768...</td>\n",
       "      <td>train</td>\n",
       "      <td>iOS</td>\n",
       "      <td>18.5</td>\n",
       "      <td>640</td>\n",
       "      <td>640</td>\n",
       "      <td>640x640</td>\n",
       "      <td>{'bytes': b'\\xff\\xd8\\xff\\xe0\\x00\\x10JFIF\\x00\\x...</td>\n",
       "    </tr>\n",
       "    <tr>\n",
       "      <th>64819</th>\n",
       "      <td>antonio.epifani@keyless.io</td>\n",
       "      <td>antonio.epifani@keyless.io_1751372521985_1.0.8</td>\n",
       "      <td>antonio.epifani@keyless.io_antonio.epifani@key...</td>\n",
       "      <td>https://storage.cloud.google.com/kl-cloud-func...</td>\n",
       "      <td>9052.0</td>\n",
       "      <td>180.0</td>\n",
       "      <td>{\"media\": {\"track\": {\"capabilities\": {\"aspectR...</td>\n",
       "      <td>1BA7B61A89880176866F8533D603036EB3252C12</td>\n",
       "      <td>Fotocamera anteriore</td>\n",
       "      <td>antonio.epifani@keyless.io___1BA7B61A898801768...</td>\n",
       "      <td>train</td>\n",
       "      <td>iOS</td>\n",
       "      <td>18.5</td>\n",
       "      <td>640</td>\n",
       "      <td>640</td>\n",
       "      <td>640x640</td>\n",
       "      <td>{'bytes': b'\\xff\\xd8\\xff\\xe0\\x00\\x10JFIF\\x00\\x...</td>\n",
       "    </tr>\n",
       "    <tr>\n",
       "      <th>64820</th>\n",
       "      <td>antonio.epifani@keyless.io</td>\n",
       "      <td>antonio.epifani@keyless.io_1751372521985_1.0.8</td>\n",
       "      <td>antonio.epifani@keyless.io_antonio.epifani@key...</td>\n",
       "      <td>https://storage.cloud.google.com/kl-cloud-func...</td>\n",
       "      <td>9303.0</td>\n",
       "      <td>185.0</td>\n",
       "      <td>{\"media\": {\"track\": {\"capabilities\": {\"aspectR...</td>\n",
       "      <td>1BA7B61A89880176866F8533D603036EB3252C12</td>\n",
       "      <td>Fotocamera anteriore</td>\n",
       "      <td>antonio.epifani@keyless.io___1BA7B61A898801768...</td>\n",
       "      <td>train</td>\n",
       "      <td>iOS</td>\n",
       "      <td>18.5</td>\n",
       "      <td>640</td>\n",
       "      <td>640</td>\n",
       "      <td>640x640</td>\n",
       "      <td>{'bytes': b'\\xff\\xd8\\xff\\xe0\\x00\\x10JFIF\\x00\\x...</td>\n",
       "    </tr>\n",
       "    <tr>\n",
       "      <th>64821</th>\n",
       "      <td>antonio.epifani@keyless.io</td>\n",
       "      <td>antonio.epifani@keyless.io_1751372521985_1.0.8</td>\n",
       "      <td>antonio.epifani@keyless.io_antonio.epifani@key...</td>\n",
       "      <td>https://storage.cloud.google.com/kl-cloud-func...</td>\n",
       "      <td>9555.0</td>\n",
       "      <td>190.0</td>\n",
       "      <td>{\"media\": {\"track\": {\"capabilities\": {\"aspectR...</td>\n",
       "      <td>1BA7B61A89880176866F8533D603036EB3252C12</td>\n",
       "      <td>Fotocamera anteriore</td>\n",
       "      <td>antonio.epifani@keyless.io___1BA7B61A898801768...</td>\n",
       "      <td>train</td>\n",
       "      <td>iOS</td>\n",
       "      <td>18.5</td>\n",
       "      <td>640</td>\n",
       "      <td>640</td>\n",
       "      <td>640x640</td>\n",
       "      <td>{'bytes': b'\\xff\\xd8\\xff\\xe0\\x00\\x10JFIF\\x00\\x...</td>\n",
       "    </tr>\n",
       "    <tr>\n",
       "      <th>64822</th>\n",
       "      <td>antonio.epifani@keyless.io</td>\n",
       "      <td>antonio.epifani@keyless.io_1751372521985_1.0.8</td>\n",
       "      <td>antonio.epifani@keyless.io_antonio.epifani@key...</td>\n",
       "      <td>https://storage.cloud.google.com/kl-cloud-func...</td>\n",
       "      <td>9807.0</td>\n",
       "      <td>195.0</td>\n",
       "      <td>{\"media\": {\"track\": {\"capabilities\": {\"aspectR...</td>\n",
       "      <td>1BA7B61A89880176866F8533D603036EB3252C12</td>\n",
       "      <td>Fotocamera anteriore</td>\n",
       "      <td>antonio.epifani@keyless.io___1BA7B61A898801768...</td>\n",
       "      <td>train</td>\n",
       "      <td>iOS</td>\n",
       "      <td>18.5</td>\n",
       "      <td>640</td>\n",
       "      <td>640</td>\n",
       "      <td>640x640</td>\n",
       "      <td>{'bytes': b'\\xff\\xd8\\xff\\xe0\\x00\\x10JFIF\\x00\\x...</td>\n",
       "    </tr>\n",
       "  </tbody>\n",
       "</table>\n",
       "<p>64823 rows × 17 columns</p>\n",
       "</div>"
      ],
      "text/plain": [
       "                     subject_name  \\\n",
       "0               flavio@keyless.io   \n",
       "1               flavio@keyless.io   \n",
       "2               flavio@keyless.io   \n",
       "3               flavio@keyless.io   \n",
       "4               flavio@keyless.io   \n",
       "...                           ...   \n",
       "64818  antonio.epifani@keyless.io   \n",
       "64819  antonio.epifani@keyless.io   \n",
       "64820  antonio.epifani@keyless.io   \n",
       "64821  antonio.epifani@keyless.io   \n",
       "64822  antonio.epifani@keyless.io   \n",
       "\n",
       "                                       session_folder  \\\n",
       "0               flavio@keyless.io_1751283476142_1.0.8   \n",
       "1               flavio@keyless.io_1751283476142_1.0.8   \n",
       "2               flavio@keyless.io_1751283476142_1.0.8   \n",
       "3               flavio@keyless.io_1751283476142_1.0.8   \n",
       "4               flavio@keyless.io_1751283476142_1.0.8   \n",
       "...                                               ...   \n",
       "64818  antonio.epifani@keyless.io_1751372521985_1.0.8   \n",
       "64819  antonio.epifani@keyless.io_1751372521985_1.0.8   \n",
       "64820  antonio.epifani@keyless.io_1751372521985_1.0.8   \n",
       "64821  antonio.epifani@keyless.io_1751372521985_1.0.8   \n",
       "64822  antonio.epifani@keyless.io_1751372521985_1.0.8   \n",
       "\n",
       "                                              photo_name  \\\n",
       "0      flavio@keyless.io_flavio@keyless.io-1751283476...   \n",
       "1      flavio@keyless.io_flavio@keyless.io-1751283476...   \n",
       "2      flavio@keyless.io_flavio@keyless.io-1751283476...   \n",
       "3      flavio@keyless.io_flavio@keyless.io-1751283476...   \n",
       "4      flavio@keyless.io_flavio@keyless.io-1751283476...   \n",
       "...                                                  ...   \n",
       "64818  antonio.epifani@keyless.io_antonio.epifani@key...   \n",
       "64819  antonio.epifani@keyless.io_antonio.epifani@key...   \n",
       "64820  antonio.epifani@keyless.io_antonio.epifani@key...   \n",
       "64821  antonio.epifani@keyless.io_antonio.epifani@key...   \n",
       "64822  antonio.epifani@keyless.io_antonio.epifani@key...   \n",
       "\n",
       "                                                gif_link  \\\n",
       "0      https://storage.cloud.google.com/kl-cloud-func...   \n",
       "1      https://storage.cloud.google.com/kl-cloud-func...   \n",
       "2      https://storage.cloud.google.com/kl-cloud-func...   \n",
       "3      https://storage.cloud.google.com/kl-cloud-func...   \n",
       "4      https://storage.cloud.google.com/kl-cloud-func...   \n",
       "...                                                  ...   \n",
       "64818  https://storage.cloud.google.com/kl-cloud-func...   \n",
       "64819  https://storage.cloud.google.com/kl-cloud-func...   \n",
       "64820  https://storage.cloud.google.com/kl-cloud-func...   \n",
       "64821  https://storage.cloud.google.com/kl-cloud-func...   \n",
       "64822  https://storage.cloud.google.com/kl-cloud-func...   \n",
       "\n",
       "       file_timestamp_within_session_ms  frame_number  \\\n",
       "0                                   0.0           0.0   \n",
       "1                                 299.0           6.0   \n",
       "2                                 599.0          12.0   \n",
       "3                                 899.0          18.0   \n",
       "4                                1149.0          23.0   \n",
       "...                                 ...           ...   \n",
       "64818                            8800.0         175.0   \n",
       "64819                            9052.0         180.0   \n",
       "64820                            9303.0         185.0   \n",
       "64821                            9555.0         190.0   \n",
       "64822                            9807.0         195.0   \n",
       "\n",
       "                                         device_metadata  \\\n",
       "0      {\"media\": {\"track\": {\"capabilities\": {\"aspectR...   \n",
       "1      {\"media\": {\"track\": {\"capabilities\": {\"aspectR...   \n",
       "2      {\"media\": {\"track\": {\"capabilities\": {\"aspectR...   \n",
       "3      {\"media\": {\"track\": {\"capabilities\": {\"aspectR...   \n",
       "4      {\"media\": {\"track\": {\"capabilities\": {\"aspectR...   \n",
       "...                                                  ...   \n",
       "64818  {\"media\": {\"track\": {\"capabilities\": {\"aspectR...   \n",
       "64819  {\"media\": {\"track\": {\"capabilities\": {\"aspectR...   \n",
       "64820  {\"media\": {\"track\": {\"capabilities\": {\"aspectR...   \n",
       "64821  {\"media\": {\"track\": {\"capabilities\": {\"aspectR...   \n",
       "64822  {\"media\": {\"track\": {\"capabilities\": {\"aspectR...   \n",
       "\n",
       "                                        camera_device_id  \\\n",
       "0      d785486b21be655650933327b9b5295bcfa607f7a879d5...   \n",
       "1      d785486b21be655650933327b9b5295bcfa607f7a879d5...   \n",
       "2      d785486b21be655650933327b9b5295bcfa607f7a879d5...   \n",
       "3      d785486b21be655650933327b9b5295bcfa607f7a879d5...   \n",
       "4      d785486b21be655650933327b9b5295bcfa607f7a879d5...   \n",
       "...                                                  ...   \n",
       "64818           1BA7B61A89880176866F8533D603036EB3252C12   \n",
       "64819           1BA7B61A89880176866F8533D603036EB3252C12   \n",
       "64820           1BA7B61A89880176866F8533D603036EB3252C12   \n",
       "64821           1BA7B61A89880176866F8533D603036EB3252C12   \n",
       "64822           1BA7B61A89880176866F8533D603036EB3252C12   \n",
       "\n",
       "                         camera_label  \\\n",
       "0      MacBook Air Camera (0000:0001)   \n",
       "1      MacBook Air Camera (0000:0001)   \n",
       "2      MacBook Air Camera (0000:0001)   \n",
       "3      MacBook Air Camera (0000:0001)   \n",
       "4      MacBook Air Camera (0000:0001)   \n",
       "...                               ...   \n",
       "64818            Fotocamera anteriore   \n",
       "64819            Fotocamera anteriore   \n",
       "64820            Fotocamera anteriore   \n",
       "64821            Fotocamera anteriore   \n",
       "64822            Fotocamera anteriore   \n",
       "\n",
       "                                      user_device_camera  split os_name  \\\n",
       "0      flavio@keyless.io___d785486b21be655650933327b9...  train   macOS   \n",
       "1      flavio@keyless.io___d785486b21be655650933327b9...  train   macOS   \n",
       "2      flavio@keyless.io___d785486b21be655650933327b9...  train   macOS   \n",
       "3      flavio@keyless.io___d785486b21be655650933327b9...  train   macOS   \n",
       "4      flavio@keyless.io___d785486b21be655650933327b9...  train   macOS   \n",
       "...                                                  ...    ...     ...   \n",
       "64818  antonio.epifani@keyless.io___1BA7B61A898801768...  train     iOS   \n",
       "64819  antonio.epifani@keyless.io___1BA7B61A898801768...  train     iOS   \n",
       "64820  antonio.epifani@keyless.io___1BA7B61A898801768...  train     iOS   \n",
       "64821  antonio.epifani@keyless.io___1BA7B61A898801768...  train     iOS   \n",
       "64822  antonio.epifani@keyless.io___1BA7B61A898801768...  train     iOS   \n",
       "\n",
       "      os_version  img_w  img_h   img_wh  \\\n",
       "0        10.15.7    640    480  640x480   \n",
       "1        10.15.7    640    480  640x480   \n",
       "2        10.15.7    640    480  640x480   \n",
       "3        10.15.7    640    480  640x480   \n",
       "4        10.15.7    640    480  640x480   \n",
       "...          ...    ...    ...      ...   \n",
       "64818       18.5    640    640  640x640   \n",
       "64819       18.5    640    640  640x640   \n",
       "64820       18.5    640    640  640x640   \n",
       "64821       18.5    640    640  640x640   \n",
       "64822       18.5    640    640  640x640   \n",
       "\n",
       "                                                 img_raw  \n",
       "0      {'bytes': b'\\xff\\xd8\\xff\\xe0\\x00\\x10JFIF\\x00\\x...  \n",
       "1      {'bytes': b'\\xff\\xd8\\xff\\xe0\\x00\\x10JFIF\\x00\\x...  \n",
       "2      {'bytes': b'\\xff\\xd8\\xff\\xe0\\x00\\x10JFIF\\x00\\x...  \n",
       "3      {'bytes': b'\\xff\\xd8\\xff\\xe0\\x00\\x10JFIF\\x00\\x...  \n",
       "4      {'bytes': b'\\xff\\xd8\\xff\\xe0\\x00\\x10JFIF\\x00\\x...  \n",
       "...                                                  ...  \n",
       "64818  {'bytes': b'\\xff\\xd8\\xff\\xe0\\x00\\x10JFIF\\x00\\x...  \n",
       "64819  {'bytes': b'\\xff\\xd8\\xff\\xe0\\x00\\x10JFIF\\x00\\x...  \n",
       "64820  {'bytes': b'\\xff\\xd8\\xff\\xe0\\x00\\x10JFIF\\x00\\x...  \n",
       "64821  {'bytes': b'\\xff\\xd8\\xff\\xe0\\x00\\x10JFIF\\x00\\x...  \n",
       "64822  {'bytes': b'\\xff\\xd8\\xff\\xe0\\x00\\x10JFIF\\x00\\x...  \n",
       "\n",
       "[64823 rows x 17 columns]"
      ]
     },
     "execution_count": 6,
     "metadata": {},
     "output_type": "execute_result"
    }
   ],
   "source": [
    "important_columns = [\n",
    "    'subject_name', 'session_folder', 'photo_name', # user / session / frame ids\n",
    "    'gif_link', 'file_timestamp_within_session_ms', 'frame_number', # frame info\n",
    "    'device_metadata', # json string with all the device metadata info\n",
    "    'camera_device_id', 'camera_label', 'user_device_camera', # camera info parsed from device metadata\n",
    "    'split', # test / train split\n",
    "    'os_name', 'os_version', # os info\n",
    "    'img_w', 'img_h', 'img_wh', # img info\n",
    "    'img_raw', # jpg bytes of image\n",
    "\n",
    "]\n",
    "\n",
    "df[important_columns]"
   ]
  },
  {
   "cell_type": "markdown",
   "metadata": {},
   "source": [
    "## Splitted to train/test"
   ]
  },
  {
   "cell_type": "code",
   "execution_count": 7,
   "metadata": {},
   "outputs": [
    {
     "data": {
      "text/plain": [
       "split\n",
       "train    54143\n",
       "test     10680\n",
       "Name: count, dtype: int64"
      ]
     },
     "execution_count": 7,
     "metadata": {},
     "output_type": "execute_result"
    }
   ],
   "source": [
    "df.split.value_counts(dropna=False)"
   ]
  },
  {
   "cell_type": "markdown",
   "metadata": {},
   "source": [
    "#### Split is done per user:"
   ]
  },
  {
   "cell_type": "code",
   "execution_count": 8,
   "metadata": {},
   "outputs": [
    {
     "name": "stdout",
     "output_type": "stream",
     "text": [
      "test: (10680, 65), sessions: 279, users: 6\n",
      "train: (54143, 65), sessions: 1611, users: 46\n"
     ]
    }
   ],
   "source": [
    "test_df = df[df.split == 'test']\n",
    "print(f'test: {test_df.shape}, sessions: {test_df.session_folder.nunique()}, users: {test_df.subject_name.nunique()}')\n",
    "train_df = df[df.split == 'train']\n",
    "print(f'train: {train_df.shape}, sessions: {train_df.session_folder.nunique()}, users: {train_df.subject_name.nunique()}')\n",
    "\n",
    "assert len(set(test_df.subject_name) & set(train_df.subject_name)) == 0"
   ]
  },
  {
   "cell_type": "markdown",
   "metadata": {},
   "source": [
    "## Most efficient way how to get session"
   ]
  },
  {
   "cell_type": "code",
   "execution_count": 9,
   "metadata": {},
   "outputs": [
    {
     "name": "stdout",
     "output_type": "stream",
     "text": [
      "CPU times: user 22.1 ms, sys: 0 ns, total: 22.1 ms\n",
      "Wall time: 22.7 ms\n"
     ]
    }
   ],
   "source": [
    "%%time\n",
    "def get_session(ds, df, session_folder):\n",
    "    idx_from_df = df[df.session_folder == selected_session_folder].index.tolist()\n",
    "    return  ds.select(idx_from_df)\n",
    "\n",
    "selected_session_folder = df.iloc[100].session_folder\n",
    "sess_ds = get_session(ds, df, selected_session_folder)\n",
    "#sess_ds[0]['img_raw']\n"
   ]
  },
  {
   "cell_type": "markdown",
   "metadata": {},
   "source": [
    "## Cleanup"
   ]
  },
  {
   "cell_type": "code",
   "execution_count": 14,
   "metadata": {},
   "outputs": [
    {
     "data": {
      "text/plain": [
       "0        640x480\n",
       "1        640x480\n",
       "2        640x480\n",
       "3        640x480\n",
       "4        640x480\n",
       "          ...   \n",
       "64818    640x640\n",
       "64819    640x640\n",
       "64820    640x640\n",
       "64821    640x640\n",
       "64822    640x640\n",
       "Name: img_wh, Length: 64823, dtype: object"
      ]
     },
     "execution_count": 14,
     "metadata": {},
     "output_type": "execute_result"
    }
   ],
   "source": [
    "df.img_wh"
   ]
  },
  {
   "cell_type": "markdown",
   "metadata": {},
   "source": [
    "-----"
   ]
  },
  {
   "cell_type": "markdown",
   "metadata": {},
   "source": [
    "## PRNU Code"
   ]
  },
  {
   "cell_type": "code",
   "execution_count": 10,
   "metadata": {},
   "outputs": [
    {
     "name": "stdout",
     "output_type": "stream",
     "text": [
      "extract prnu: 230400\n",
      "extract noise: 230400\n"
     ]
    }
   ],
   "source": [
    "import numpy as np\n",
    "from PIL import Image, ImageFilter\n",
    "\n",
    "\n",
    "\n",
    "def extract_noise(pil_img):\n",
    "    img_arr = pil_to_array(pil_img)\n",
    "    img_arr = center_crop_480(img_arr)\n",
    "    img_denoised = denoise(pil_img.convert(\"L\"))\n",
    "    img_denoised = center_crop_480(img_denoised)\n",
    "    return (img_arr - img_denoised).flatten()\n",
    "\n",
    "\n",
    "def pil_to_array(pil_img):\n",
    "    return np.array(pil_img.convert(\"L\")).astype(np.float32) / 255.0\n",
    "\n",
    "\n",
    "def denoise(pil_image):\n",
    "    denoised = pil_image.filter(ImageFilter.GaussianBlur(radius=1))\n",
    "    return np.array(denoised).astype(np.float32) / 255.0\n",
    "\n",
    "\n",
    "def extract_prnu(pil_images):\n",
    "    noise_accum = center_crop_480(np.zeros_like(pil_to_array(pil_images[0]))).flatten()\n",
    "    for img in pil_images:\n",
    "        noise_accum += extract_noise(img)\n",
    "    return noise_accum / len(pil_images)\n",
    "\n",
    "def match_prnu(query_pil, prnu):\n",
    "    noise = extract_noise(query_pil)\n",
    "    noise -= noise.mean()\n",
    "    prnu -= prnu.mean()\n",
    "    return np.sum(noise * prnu) / (np.linalg.norm(noise) * np.linalg.norm(prnu))\n",
    "\n",
    "\n",
    "def center_crop_480(img):\n",
    "    h, w = img.shape[:2]\n",
    "    top = (h - 480) // 2\n",
    "    left = (w - 480) // 2\n",
    "    return img[top:top+480, left:left+480]\n",
    "\n",
    "\n",
    "prnu_emb = extract_prnu(sess_ds['img_raw'])\n",
    "print(f'extract prnu: {len(prnu_emb)}')\n",
    "img_noise = extract_noise(sess_ds[0]['img_raw'])\n",
    "print(f'extract noise: {len(img_noise)}')"
   ]
  },
  {
   "cell_type": "code",
   "execution_count": 11,
   "metadata": {},
   "outputs": [],
   "source": [
    "idx_from_df = df[df.split == 'test'].index.tolist()\n",
    "test_ds = ds.select(idx_from_df)\n",
    "# test_df = test_ds.to_pandas()"
   ]
  },
  {
   "cell_type": "code",
   "execution_count": 13,
   "metadata": {},
   "outputs": [
    {
     "data": {
      "application/vnd.jupyter.widget-view+json": {
       "model_id": "b26ecb212a944c13aea7e6c9cecf60f6",
       "version_major": 2,
       "version_minor": 0
      },
      "text/plain": [
       "Map:   0%|          | 0/64823 [00:00<?, ? examples/s]"
      ]
     },
     "metadata": {},
     "output_type": "display_data"
    }
   ],
   "source": [
    "def add_prnu_noise(row):\n",
    "    row[\"prnu_noise\"] = extract_noise(row['img_raw'])\n",
    "    return row\n",
    "\n",
    "#test_ds = test_ds.map(add_prnu_noise, cache_file_name='./tmp_cache/tmp_cache.tmp', num_proc=os.cpu_count()-1)\n",
    "ds = ds.map(add_prnu_noise, cache_file_name='./tmp_cache/tmp_cache.tmp')#, num_proc=os.cpu_count()-1)"
   ]
  },
  {
   "cell_type": "code",
   "execution_count": 16,
   "metadata": {},
   "outputs": [
    {
     "data": {
      "application/vnd.jupyter.widget-view+json": {
       "model_id": "180b16f70e9e4ae88d7e5299962b795b",
       "version_major": 2,
       "version_minor": 0
      },
      "text/plain": [
       "Saving the dataset (0/124 shards):   0%|          | 0/64823 [00:00<?, ? examples/s]"
      ]
     },
     "metadata": {},
     "output_type": "display_data"
    }
   ],
   "source": [
    "ds.save_to_disk('processed_ds')"
   ]
  },
  {
   "cell_type": "code",
   "execution_count": 17,
   "metadata": {},
   "outputs": [
    {
     "name": "stdout",
     "output_type": "stream",
     "text": [
      "CPU times: user 55 s, sys: 37.2 s, total: 1min 32s\n",
      "Wall time: 1min 31s\n"
     ]
    }
   ],
   "source": [
    "%%time\n",
    "df = ds.to_pandas()"
   ]
  },
  {
   "cell_type": "code",
   "execution_count": 15,
   "metadata": {},
   "outputs": [
    {
     "data": {
      "text/plain": [
       "(10680, 66)"
      ]
     },
     "execution_count": 15,
     "metadata": {},
     "output_type": "execute_result"
    }
   ],
   "source": [
    "test_ds = ds.select(idx_from_df)\n",
    "test_df = test_ds.to_pandas()\n",
    "test_df.shape"
   ]
  },
  {
   "cell_type": "code",
   "execution_count": null,
   "metadata": {},
   "outputs": [],
   "source": [
    "test_df.img_wh.value_counts()"
   ]
  },
  {
   "cell_type": "code",
   "execution_count": 19,
   "metadata": {},
   "outputs": [],
   "source": [
    "test_df = test_df[test_df.img_wh != '2x2']\n",
    "df = df[df.img_wh != '2x2']"
   ]
  },
  {
   "cell_type": "code",
   "execution_count": 20,
   "metadata": {},
   "outputs": [
    {
     "data": {
      "text/html": [
       "<div>\n",
       "<style scoped>\n",
       "    .dataframe tbody tr th:only-of-type {\n",
       "        vertical-align: middle;\n",
       "    }\n",
       "\n",
       "    .dataframe tbody tr th {\n",
       "        vertical-align: top;\n",
       "    }\n",
       "\n",
       "    .dataframe thead th {\n",
       "        text-align: right;\n",
       "    }\n",
       "</style>\n",
       "<table border=\"1\" class=\"dataframe\">\n",
       "  <thead>\n",
       "    <tr style=\"text-align: right;\">\n",
       "      <th></th>\n",
       "      <th>session_folder</th>\n",
       "      <th>prnu_noise</th>\n",
       "      <th>session_size</th>\n",
       "    </tr>\n",
       "  </thead>\n",
       "  <tbody>\n",
       "    <tr>\n",
       "      <th>0</th>\n",
       "      <td>0000_1749807699847_1.0.0</td>\n",
       "      <td>[0.0, 0.0, 0.0, 0.0, 0.0, 0.0, 0.0, 0.0, 0.003...</td>\n",
       "      <td>35</td>\n",
       "    </tr>\n",
       "    <tr>\n",
       "      <th>1</th>\n",
       "      <td>ahmed.atef@keyless.io_1750871273156_1.0.8</td>\n",
       "      <td>[0.0039215684, 0.0, 0.0, 0.0, 0.0, 0.0, 0.0, 0...</td>\n",
       "      <td>35</td>\n",
       "    </tr>\n",
       "    <tr>\n",
       "      <th>2</th>\n",
       "      <td>ahmed.atef@keyless.io_1750871501815_1.0.8</td>\n",
       "      <td>[0.007843137, 0.0, 0.0, 0.0, 0.0, 0.0, 0.0, 0....</td>\n",
       "      <td>64</td>\n",
       "    </tr>\n",
       "  </tbody>\n",
       "</table>\n",
       "</div>"
      ],
      "text/plain": [
       "                              session_folder  \\\n",
       "0                   0000_1749807699847_1.0.0   \n",
       "1  ahmed.atef@keyless.io_1750871273156_1.0.8   \n",
       "2  ahmed.atef@keyless.io_1750871501815_1.0.8   \n",
       "\n",
       "                                          prnu_noise  session_size  \n",
       "0  [0.0, 0.0, 0.0, 0.0, 0.0, 0.0, 0.0, 0.0, 0.003...            35  \n",
       "1  [0.0039215684, 0.0, 0.0, 0.0, 0.0, 0.0, 0.0, 0...            35  \n",
       "2  [0.007843137, 0.0, 0.0, 0.0, 0.0, 0.0, 0.0, 0....            64  "
      ]
     },
     "execution_count": 20,
     "metadata": {},
     "output_type": "execute_result"
    }
   ],
   "source": [
    "# noise_per_sess_df = test_df.groupby('session_folder').agg({'prnu_noise': 'sum', 'photo_name': 'count'}).rename(columns={'photo_name': 'session_size'}).reset_index(drop=False)\n",
    "noise_per_sess_df = df.groupby('session_folder').agg({'prnu_noise': 'sum', 'photo_name': 'count'}).rename(columns={'photo_name': 'session_size'}).reset_index(drop=False)\n",
    "noise_per_sess_df.head(3)"
   ]
  },
  {
   "cell_type": "code",
   "execution_count": 21,
   "metadata": {},
   "outputs": [
    {
     "name": "stdout",
     "output_type": "stream",
     "text": [
      "(1889, 4)\n"
     ]
    },
    {
     "data": {
      "text/html": [
       "<div>\n",
       "<style scoped>\n",
       "    .dataframe tbody tr th:only-of-type {\n",
       "        vertical-align: middle;\n",
       "    }\n",
       "\n",
       "    .dataframe tbody tr th {\n",
       "        vertical-align: top;\n",
       "    }\n",
       "\n",
       "    .dataframe thead th {\n",
       "        text-align: right;\n",
       "    }\n",
       "</style>\n",
       "<table border=\"1\" class=\"dataframe\">\n",
       "  <thead>\n",
       "    <tr style=\"text-align: right;\">\n",
       "      <th></th>\n",
       "      <th>session_folder</th>\n",
       "      <th>prnu_noise</th>\n",
       "      <th>session_size</th>\n",
       "      <th>embedding</th>\n",
       "    </tr>\n",
       "  </thead>\n",
       "  <tbody>\n",
       "    <tr>\n",
       "      <th>0</th>\n",
       "      <td>0000_1749807699847_1.0.0</td>\n",
       "      <td>[0.0, 0.0, 0.0, 0.0, 0.0, 0.0, 0.0, 0.0, 0.003...</td>\n",
       "      <td>35</td>\n",
       "      <td>[0.0, 0.0, 0.0, 0.0, 0.0, 0.0, 0.0, 0.0, 0.000...</td>\n",
       "    </tr>\n",
       "    <tr>\n",
       "      <th>1</th>\n",
       "      <td>ahmed.atef@keyless.io_1750871273156_1.0.8</td>\n",
       "      <td>[0.0039215684, 0.0, 0.0, 0.0, 0.0, 0.0, 0.0, 0...</td>\n",
       "      <td>35</td>\n",
       "      <td>[0.000112044814, 0.0, 0.0, 0.0, 0.0, 0.0, 0.0,...</td>\n",
       "    </tr>\n",
       "    <tr>\n",
       "      <th>2</th>\n",
       "      <td>ahmed.atef@keyless.io_1750871501815_1.0.8</td>\n",
       "      <td>[0.007843137, 0.0, 0.0, 0.0, 0.0, 0.0, 0.0, 0....</td>\n",
       "      <td>64</td>\n",
       "      <td>[0.00012254901, 0.0, 0.0, 0.0, 0.0, 0.0, 0.0, ...</td>\n",
       "    </tr>\n",
       "  </tbody>\n",
       "</table>\n",
       "</div>"
      ],
      "text/plain": [
       "                              session_folder  \\\n",
       "0                   0000_1749807699847_1.0.0   \n",
       "1  ahmed.atef@keyless.io_1750871273156_1.0.8   \n",
       "2  ahmed.atef@keyless.io_1750871501815_1.0.8   \n",
       "\n",
       "                                          prnu_noise  session_size  \\\n",
       "0  [0.0, 0.0, 0.0, 0.0, 0.0, 0.0, 0.0, 0.0, 0.003...            35   \n",
       "1  [0.0039215684, 0.0, 0.0, 0.0, 0.0, 0.0, 0.0, 0...            35   \n",
       "2  [0.007843137, 0.0, 0.0, 0.0, 0.0, 0.0, 0.0, 0....            64   \n",
       "\n",
       "                                           embedding  \n",
       "0  [0.0, 0.0, 0.0, 0.0, 0.0, 0.0, 0.0, 0.0, 0.000...  \n",
       "1  [0.000112044814, 0.0, 0.0, 0.0, 0.0, 0.0, 0.0,...  \n",
       "2  [0.00012254901, 0.0, 0.0, 0.0, 0.0, 0.0, 0.0, ...  "
      ]
     },
     "execution_count": 21,
     "metadata": {},
     "output_type": "execute_result"
    }
   ],
   "source": [
    "noise_per_sess_df['embedding'] = noise_per_sess_df.prnu_noise / noise_per_sess_df.session_size\n",
    "print(noise_per_sess_df.shape)\n",
    "noise_per_sess_df.head(3)"
   ]
  },
  {
   "cell_type": "code",
   "execution_count": 22,
   "metadata": {},
   "outputs": [
    {
     "data": {
      "text/plain": [
       "embedding\n",
       "230400    1889\n",
       "Name: count, dtype: int64"
      ]
     },
     "metadata": {},
     "output_type": "display_data"
    }
   ],
   "source": [
    "display(noise_per_sess_df.embedding.apply(len).value_counts())\n",
    "assert len(set(noise_per_sess_df.embedding.apply(len))) == 1\n",
    "assert len(noise_per_sess_df.embedding.iloc[0]) == 480*480"
   ]
  },
  {
   "cell_type": "code",
   "execution_count": 23,
   "metadata": {},
   "outputs": [
    {
     "data": {
      "text/plain": [
       "-0.002215669024735689"
      ]
     },
     "execution_count": 23,
     "metadata": {},
     "output_type": "execute_result"
    }
   ],
   "source": [
    "def prnu_similarity(emb1, emb2):\n",
    "    if emb1.shape != emb2.shape:\n",
    "        print(f\"ERROR different shape {emb1.shape} != {emb2.shape}\")\n",
    "        return 0\n",
    "    emb1 = emb1.flatten()\n",
    "    emb2 = emb2.flatten()\n",
    "    emb1 -= emb1.mean()\n",
    "    emb2 -= emb2.mean()\n",
    "    return next(map(float, [np.sum(emb1 * emb2) / (np.linalg.norm(emb1) * np.linalg.norm(emb2))]))\n",
    "\n",
    "prnu_similarity(noise_per_sess_df.embedding.iloc[0], noise_per_sess_df.embedding.iloc[1])"
   ]
  },
  {
   "cell_type": "code",
   "execution_count": 24,
   "metadata": {},
   "outputs": [],
   "source": [
    "# map session to embeddings\n",
    "emb_map = {row.session_folder: row.embedding for row in noise_per_sess_df[['session_folder', 'embedding']].itertuples()}"
   ]
  },
  {
   "cell_type": "code",
   "execution_count": 29,
   "metadata": {},
   "outputs": [],
   "source": [
    "noise_per_sess_df[['session_folder', 'session_size', 'embedding']].to_parquet('embs.parquet')"
   ]
  },
  {
   "cell_type": "code",
   "execution_count": null,
   "metadata": {},
   "outputs": [],
   "source": [
    "auth_noise_df = (test_df\n",
    "    .groupby('session_folder')\n",
    "    .head(8)\n",
    "    .agg({'prnu_noise': 'sum', 'photo_name': 'count'})\n",
    "    .rename(columns={'photo_name': 'session_size'})\n",
    "    .reset_index(drop=False)\n",
    ")\n",
    "auth_noise_df.head(3)"
   ]
  },
  {
   "cell_type": "markdown",
   "metadata": {},
   "source": [
    "----"
   ]
  },
  {
   "cell_type": "markdown",
   "metadata": {},
   "source": [
    "## Calculate scores matrix"
   ]
  },
  {
   "cell_type": "code",
   "execution_count": null,
   "metadata": {},
   "outputs": [],
   "source": [
    "def calculate_scores():\n",
    "    rows = []\n",
    "\n",
    "    # cache similar\n",
    "    scores = {}\n",
    "\n",
    "    for sess_enroll, enrl_df in tqdm(test_df.groupby('session_folder')):\n",
    "        for sess_auth, auth_df in test_df.groupby('session_folder'):\n",
    "            # enrl_imgs = get_session(ds, df, sess_enroll)[\"img_raw\"]\n",
    "            # auth_imgs = get_session(ds, df, sess_auth)[\"img_raw\"]\n",
    "\n",
    "            if sess_enroll == sess_auth:\n",
    "                continue\n",
    "            \n",
    "            combo_idx = tuple(sorted([sess_enroll, sess_auth]))\n",
    "            if combo_idx in scores:\n",
    "                sim_score = scores[combo_idx]\n",
    "            else:\n",
    "                enrl_emb = emb_map[sess_enroll]\n",
    "                auth_emb = emb_map[sess_auth]\n",
    "                sim_score = prnu_similarity(enrl_emb, auth_emb)\n",
    "                scores[combo_idx] = sim_score\n",
    "            \n",
    "            enrl_row = enrl_df.iloc[0]\n",
    "            auth_row = auth_df.iloc[0]\n",
    "\n",
    "            rows.append({\n",
    "                'enroll_sess': sess_enroll,\n",
    "                'auth_sess': sess_auth,\n",
    "\n",
    "                'enroll_user': enrl_row.subject_name,\n",
    "                'enroll_camera_label': enrl_row.camera_label,\n",
    "                'enroll_user_device_camera': enrl_row.user_device_camera,\n",
    "\n",
    "                'auth_user': auth_row.subject_name,\n",
    "                'auth_camera_label': auth_row.camera_label,\n",
    "                'auth_user_device_camera': auth_row.user_device_camera,\n",
    "\n",
    "                'is_same_user': enrl_row.subject_name == auth_row.subject_name,\n",
    "                'is_same_camera_label': enrl_row.camera_label == auth_row.camera_label,\n",
    "                'is_same_user_device_camera': enrl_row.user_device_camera == auth_row.user_device_camera,\n",
    "\n",
    "                'similarity': sim_score, # This is your score\n",
    "            })\n",
    "\n",
    "    return rows\n",
    "\n",
    "pred_df = pd.DataFrame(calculate_scores())\n",
    "pred_df.head(3)\n",
    "\n"
   ]
  },
  {
   "cell_type": "code",
   "execution_count": null,
   "metadata": {},
   "outputs": [],
   "source": [
    "%%time\n",
    "pred_df.to_parquet(output_parquet_path)\n",
    "print(f'ds {pred_df.shape} saved to \"{output_parquet_path}\"')"
   ]
  },
  {
   "cell_type": "code",
   "execution_count": null,
   "metadata": {},
   "outputs": [],
   "source": [
    "pred_df.similarity.hist(bins=100)\n",
    "plt.axvline(x=0.02, color='red', linestyle='--', linewidth=1)"
   ]
  },
  {
   "cell_type": "code",
   "execution_count": null,
   "metadata": {},
   "outputs": [],
   "source": [
    "def get_FAR_FRR(df, thr=0.5, pred_col='similarity', target_col='is_same_user_device_camera'):\n",
    "    targets = df[target_col]\n",
    "    pred_proba = df[pred_col]\n",
    "    \n",
    "    preds = pred_proba > thr\n",
    "    TP = sum((targets == True) & (preds == True))\n",
    "    FP = sum((targets == False) & (preds == True))\n",
    "    TN = sum((targets == False) & (preds == False))\n",
    "    FN = sum((targets == True) & (preds == False))\n",
    "\n",
    "    FAR = FP / (TN + FP)\n",
    "    FRR = FN / (TP + FN)\n",
    "\n",
    "    # print(f'FAR: {FAR:.1%}')\n",
    "    # print(f'FRR: {FRR:.1%}')\n",
    "    return FAR, FRR\n"
   ]
  },
  {
   "cell_type": "code",
   "execution_count": null,
   "metadata": {},
   "outputs": [],
   "source": [
    "\n",
    "fars = []\n",
    "frrs = []\n",
    "for t in np.arange(0, 1, 0.01):\n",
    "    far, frr = get_FAR_FRR(pred_df, t)\n",
    "    fars.append(far)\n",
    "    frrs.append(frr)\n",
    "\n",
    "\n"
   ]
  },
  {
   "cell_type": "code",
   "execution_count": null,
   "metadata": {},
   "outputs": [],
   "source": [
    "def get_closest_to_far(target_far, fars, frrs):\n",
    "    idx = (np.array(fars) < target_far).argmax()\n",
    "    return fars[idx], frrs[idx]\n",
    "\n",
    "def get_closest_to_frr(target_frr, fars, frrs):\n",
    "    idx = (np.array(frrs) > target_frr).argmax()\n",
    "    print(idx)\n",
    "    return fars[idx], frrs[idx]"
   ]
  },
  {
   "cell_type": "code",
   "execution_count": null,
   "metadata": {},
   "outputs": [],
   "source": [
    "\n",
    "target_frr = 0.08\n",
    "sel_far, sel_frr = get_closest_to_frr(target_frr, fars, frrs)\n",
    "\n",
    "plt.plot(fars, frrs)\n",
    "plt.xlabel('FAR')\n",
    "plt.ylabel('FRR')\n",
    "plt.grid()\n",
    "plt.axvline(x=sel_far, color='red', linestyle='--', linewidth=1)\n",
    "plt.title(f'{sel_frr:.1%} FRR @ {sel_far:.1%} FAR')"
   ]
  },
  {
   "cell_type": "code",
   "execution_count": null,
   "metadata": {},
   "outputs": [],
   "source": []
  }
 ],
 "metadata": {
  "kernelspec": {
   "display_name": ".venv",
   "language": "python",
   "name": "python3"
  },
  "language_info": {
   "codemirror_mode": {
    "name": "ipython",
    "version": 3
   },
   "file_extension": ".py",
   "mimetype": "text/x-python",
   "name": "python",
   "nbconvert_exporter": "python",
   "pygments_lexer": "ipython3",
   "version": "3.11.11"
  }
 },
 "nbformat": 4,
 "nbformat_minor": 2
}
