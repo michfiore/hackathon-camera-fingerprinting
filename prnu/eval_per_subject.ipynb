{
 "cells": [
  {
   "cell_type": "code",
   "execution_count": 25,
   "metadata": {},
   "outputs": [],
   "source": [
    "import pandas as pd\n",
    "import datasets\n",
    "import numpy as np\n",
    "from tqdm.auto import tqdm\n",
    "import matplotlib.pyplot as plt"
   ]
  },
  {
   "cell_type": "code",
   "execution_count": 5,
   "metadata": {},
   "outputs": [],
   "source": [
    "embs_df = pd.read_parquet('embs.parquet')"
   ]
  },
  {
   "cell_type": "code",
   "execution_count": 9,
   "metadata": {},
   "outputs": [],
   "source": [
    "emb_map = {row.session_folder: row.embedding for row in embs_df[['session_folder', 'embedding']].itertuples()}"
   ]
  },
  {
   "cell_type": "code",
   "execution_count": 12,
   "metadata": {},
   "outputs": [
    {
     "data": {
      "text/plain": [
       "-0.002215669024735689"
      ]
     },
     "execution_count": 12,
     "metadata": {},
     "output_type": "execute_result"
    }
   ],
   "source": [
    "def prnu_similarity(emb1, emb2):\n",
    "    if emb1.shape != emb2.shape:\n",
    "        print(f\"ERROR different shape {emb1.shape} != {emb2.shape}\")\n",
    "        return 0\n",
    "    emb1 = emb1.flatten()\n",
    "    emb2 = emb2.flatten()\n",
    "    emb1 -= emb1.mean()\n",
    "    emb2 -= emb2.mean()\n",
    "    return next(map(float, [np.sum(emb1 * emb2) / (np.linalg.norm(emb1) * np.linalg.norm(emb2))]))\n",
    "\n",
    "prnu_similarity(embs_df.embedding.iloc[0], embs_df.embedding.iloc[1])"
   ]
  },
  {
   "cell_type": "code",
   "execution_count": 6,
   "metadata": {},
   "outputs": [
    {
     "name": "stdout",
     "output_type": "stream",
     "text": [
      "CPU times: user 2.77 s, sys: 2.19 s, total: 4.96 s\n",
      "Wall time: 7.17 s\n"
     ]
    },
    {
     "data": {
      "text/plain": [
       "64823"
      ]
     },
     "execution_count": 6,
     "metadata": {},
     "output_type": "execute_result"
    }
   ],
   "source": [
    "%%time\n",
    "ds_uri = 's3://sagemaker-production-eu-central-1-kl-biometric-datasets/raw_datasets/face_biometrics/hackathon_2025-07_camera_fingerprint/'\n",
    "ds = datasets.load_from_disk(ds_uri)\n",
    "len(ds)"
   ]
  },
  {
   "cell_type": "code",
   "execution_count": 7,
   "metadata": {},
   "outputs": [],
   "source": [
    "important_columns = [\n",
    "    'subject_name', 'session_folder', 'photo_name', # user / session / frame ids\n",
    "    'gif_link', 'file_timestamp_within_session_ms', 'frame_number', # frame info\n",
    "    'device_metadata', # json string with all the device metadata info\n",
    "    'camera_device_id', 'camera_label', 'user_device_camera', # camera info parsed from device metadata\n",
    "    'split', # test / train split\n",
    "    'os_name', 'os_version', # os info\n",
    "    'img_w', 'img_h', 'img_wh', # img info\n",
    "    'img_raw', # jpg bytes of image\n",
    "\n",
    "]\n",
    "df = ds.select_columns(important_columns).to_pandas()"
   ]
  },
  {
   "cell_type": "code",
   "execution_count": 18,
   "metadata": {},
   "outputs": [
    {
     "data": {
      "text/html": [
       "<div>\n",
       "<style scoped>\n",
       "    .dataframe tbody tr th:only-of-type {\n",
       "        vertical-align: middle;\n",
       "    }\n",
       "\n",
       "    .dataframe tbody tr th {\n",
       "        vertical-align: top;\n",
       "    }\n",
       "\n",
       "    .dataframe thead th {\n",
       "        text-align: right;\n",
       "    }\n",
       "</style>\n",
       "<table border=\"1\" class=\"dataframe\">\n",
       "  <thead>\n",
       "    <tr style=\"text-align: right;\">\n",
       "      <th></th>\n",
       "      <th>subject_name</th>\n",
       "      <th>session_folder</th>\n",
       "      <th>photo_name</th>\n",
       "      <th>gif_link</th>\n",
       "      <th>file_timestamp_within_session_ms</th>\n",
       "      <th>frame_number</th>\n",
       "      <th>device_metadata</th>\n",
       "      <th>camera_device_id</th>\n",
       "      <th>camera_label</th>\n",
       "      <th>user_device_camera</th>\n",
       "      <th>split</th>\n",
       "      <th>os_name</th>\n",
       "      <th>os_version</th>\n",
       "      <th>img_w</th>\n",
       "      <th>img_h</th>\n",
       "      <th>img_wh</th>\n",
       "      <th>img_raw</th>\n",
       "    </tr>\n",
       "  </thead>\n",
       "  <tbody>\n",
       "    <tr>\n",
       "      <th>0</th>\n",
       "      <td>flavio@keyless.io</td>\n",
       "      <td>flavio@keyless.io_1751283476142_1.0.8</td>\n",
       "      <td>flavio@keyless.io_flavio@keyless.io-1751283476...</td>\n",
       "      <td>https://storage.cloud.google.com/kl-cloud-func...</td>\n",
       "      <td>0.0</td>\n",
       "      <td>0.0</td>\n",
       "      <td>{\"media\": {\"track\": {\"capabilities\": {\"aspectR...</td>\n",
       "      <td>d785486b21be655650933327b9b5295bcfa607f7a879d5...</td>\n",
       "      <td>MacBook Air Camera (0000:0001)</td>\n",
       "      <td>flavio@keyless.io___d785486b21be655650933327b9...</td>\n",
       "      <td>train</td>\n",
       "      <td>macOS</td>\n",
       "      <td>10.15.7</td>\n",
       "      <td>640</td>\n",
       "      <td>480</td>\n",
       "      <td>640x480</td>\n",
       "      <td>{'bytes': b'\\xff\\xd8\\xff\\xe0\\x00\\x10JFIF\\x00\\x...</td>\n",
       "    </tr>\n",
       "    <tr>\n",
       "      <th>1</th>\n",
       "      <td>flavio@keyless.io</td>\n",
       "      <td>flavio@keyless.io_1751283476142_1.0.8</td>\n",
       "      <td>flavio@keyless.io_flavio@keyless.io-1751283476...</td>\n",
       "      <td>https://storage.cloud.google.com/kl-cloud-func...</td>\n",
       "      <td>299.0</td>\n",
       "      <td>6.0</td>\n",
       "      <td>{\"media\": {\"track\": {\"capabilities\": {\"aspectR...</td>\n",
       "      <td>d785486b21be655650933327b9b5295bcfa607f7a879d5...</td>\n",
       "      <td>MacBook Air Camera (0000:0001)</td>\n",
       "      <td>flavio@keyless.io___d785486b21be655650933327b9...</td>\n",
       "      <td>train</td>\n",
       "      <td>macOS</td>\n",
       "      <td>10.15.7</td>\n",
       "      <td>640</td>\n",
       "      <td>480</td>\n",
       "      <td>640x480</td>\n",
       "      <td>{'bytes': b'\\xff\\xd8\\xff\\xe0\\x00\\x10JFIF\\x00\\x...</td>\n",
       "    </tr>\n",
       "    <tr>\n",
       "      <th>2</th>\n",
       "      <td>flavio@keyless.io</td>\n",
       "      <td>flavio@keyless.io_1751283476142_1.0.8</td>\n",
       "      <td>flavio@keyless.io_flavio@keyless.io-1751283476...</td>\n",
       "      <td>https://storage.cloud.google.com/kl-cloud-func...</td>\n",
       "      <td>599.0</td>\n",
       "      <td>12.0</td>\n",
       "      <td>{\"media\": {\"track\": {\"capabilities\": {\"aspectR...</td>\n",
       "      <td>d785486b21be655650933327b9b5295bcfa607f7a879d5...</td>\n",
       "      <td>MacBook Air Camera (0000:0001)</td>\n",
       "      <td>flavio@keyless.io___d785486b21be655650933327b9...</td>\n",
       "      <td>train</td>\n",
       "      <td>macOS</td>\n",
       "      <td>10.15.7</td>\n",
       "      <td>640</td>\n",
       "      <td>480</td>\n",
       "      <td>640x480</td>\n",
       "      <td>{'bytes': b'\\xff\\xd8\\xff\\xe0\\x00\\x10JFIF\\x00\\x...</td>\n",
       "    </tr>\n",
       "  </tbody>\n",
       "</table>\n",
       "</div>"
      ],
      "text/plain": [
       "        subject_name                         session_folder  \\\n",
       "0  flavio@keyless.io  flavio@keyless.io_1751283476142_1.0.8   \n",
       "1  flavio@keyless.io  flavio@keyless.io_1751283476142_1.0.8   \n",
       "2  flavio@keyless.io  flavio@keyless.io_1751283476142_1.0.8   \n",
       "\n",
       "                                          photo_name  \\\n",
       "0  flavio@keyless.io_flavio@keyless.io-1751283476...   \n",
       "1  flavio@keyless.io_flavio@keyless.io-1751283476...   \n",
       "2  flavio@keyless.io_flavio@keyless.io-1751283476...   \n",
       "\n",
       "                                            gif_link  \\\n",
       "0  https://storage.cloud.google.com/kl-cloud-func...   \n",
       "1  https://storage.cloud.google.com/kl-cloud-func...   \n",
       "2  https://storage.cloud.google.com/kl-cloud-func...   \n",
       "\n",
       "   file_timestamp_within_session_ms  frame_number  \\\n",
       "0                               0.0           0.0   \n",
       "1                             299.0           6.0   \n",
       "2                             599.0          12.0   \n",
       "\n",
       "                                     device_metadata  \\\n",
       "0  {\"media\": {\"track\": {\"capabilities\": {\"aspectR...   \n",
       "1  {\"media\": {\"track\": {\"capabilities\": {\"aspectR...   \n",
       "2  {\"media\": {\"track\": {\"capabilities\": {\"aspectR...   \n",
       "\n",
       "                                    camera_device_id  \\\n",
       "0  d785486b21be655650933327b9b5295bcfa607f7a879d5...   \n",
       "1  d785486b21be655650933327b9b5295bcfa607f7a879d5...   \n",
       "2  d785486b21be655650933327b9b5295bcfa607f7a879d5...   \n",
       "\n",
       "                     camera_label  \\\n",
       "0  MacBook Air Camera (0000:0001)   \n",
       "1  MacBook Air Camera (0000:0001)   \n",
       "2  MacBook Air Camera (0000:0001)   \n",
       "\n",
       "                                  user_device_camera  split os_name  \\\n",
       "0  flavio@keyless.io___d785486b21be655650933327b9...  train   macOS   \n",
       "1  flavio@keyless.io___d785486b21be655650933327b9...  train   macOS   \n",
       "2  flavio@keyless.io___d785486b21be655650933327b9...  train   macOS   \n",
       "\n",
       "  os_version  img_w  img_h   img_wh  \\\n",
       "0    10.15.7    640    480  640x480   \n",
       "1    10.15.7    640    480  640x480   \n",
       "2    10.15.7    640    480  640x480   \n",
       "\n",
       "                                             img_raw  \n",
       "0  {'bytes': b'\\xff\\xd8\\xff\\xe0\\x00\\x10JFIF\\x00\\x...  \n",
       "1  {'bytes': b'\\xff\\xd8\\xff\\xe0\\x00\\x10JFIF\\x00\\x...  \n",
       "2  {'bytes': b'\\xff\\xd8\\xff\\xe0\\x00\\x10JFIF\\x00\\x...  "
      ]
     },
     "execution_count": 18,
     "metadata": {},
     "output_type": "execute_result"
    }
   ],
   "source": [
    "df = df[df.img_wh != '2x2']\n",
    "df.head(3)"
   ]
  },
  {
   "cell_type": "code",
   "execution_count": 67,
   "metadata": {},
   "outputs": [
    {
     "data": {
      "text/plain": [
       "['daniele@keyless.io', 'evgjeni.larushi@keyless.io', 'dpanic']"
      ]
     },
     "execution_count": 67,
     "metadata": {},
     "output_type": "execute_result"
    }
   ],
   "source": [
    "cameras_per_user = df.groupby('subject_name').user_device_camera.nunique().sort_values()\n",
    "viable_users = cameras_per_user[cameras_per_user > 1].index.to_list()\n",
    "viable_users[:3]"
   ]
  },
  {
   "cell_type": "code",
   "execution_count": 19,
   "metadata": {},
   "outputs": [
    {
     "data": {
      "application/vnd.jupyter.widget-view+json": {
       "model_id": "fc8a405e4d2043e7b4efceb0e80caecb",
       "version_major": 2,
       "version_minor": 0
      },
      "text/plain": [
       "  0%|          | 0/1889 [00:00<?, ?it/s]"
      ]
     },
     "metadata": {},
     "output_type": "display_data"
    },
    {
     "name": "stderr",
     "output_type": "stream",
     "text": [
      "/tmp/ipykernel_19846/1503810142.py:9: RuntimeWarning: invalid value encountered in scalar divide\n",
      "  return next(map(float, [np.sum(emb1 * emb2) / (np.linalg.norm(emb1) * np.linalg.norm(emb2))]))\n",
      "/tmp/ipykernel_19846/1503810142.py:9: RuntimeWarning: invalid value encountered in scalar divide\n",
      "  return next(map(float, [np.sum(emb1 * emb2) / (np.linalg.norm(emb1) * np.linalg.norm(emb2))]))\n",
      "/tmp/ipykernel_19846/1503810142.py:9: RuntimeWarning: invalid value encountered in scalar divide\n",
      "  return next(map(float, [np.sum(emb1 * emb2) / (np.linalg.norm(emb1) * np.linalg.norm(emb2))]))\n",
      "/tmp/ipykernel_19846/1503810142.py:9: RuntimeWarning: invalid value encountered in scalar divide\n",
      "  return next(map(float, [np.sum(emb1 * emb2) / (np.linalg.norm(emb1) * np.linalg.norm(emb2))]))\n",
      "/tmp/ipykernel_19846/1503810142.py:9: RuntimeWarning: invalid value encountered in scalar divide\n",
      "  return next(map(float, [np.sum(emb1 * emb2) / (np.linalg.norm(emb1) * np.linalg.norm(emb2))]))\n",
      "/tmp/ipykernel_19846/1503810142.py:9: RuntimeWarning: invalid value encountered in scalar divide\n",
      "  return next(map(float, [np.sum(emb1 * emb2) / (np.linalg.norm(emb1) * np.linalg.norm(emb2))]))\n",
      "/tmp/ipykernel_19846/1503810142.py:9: RuntimeWarning: invalid value encountered in scalar divide\n",
      "  return next(map(float, [np.sum(emb1 * emb2) / (np.linalg.norm(emb1) * np.linalg.norm(emb2))]))\n",
      "/tmp/ipykernel_19846/1503810142.py:9: RuntimeWarning: invalid value encountered in scalar divide\n",
      "  return next(map(float, [np.sum(emb1 * emb2) / (np.linalg.norm(emb1) * np.linalg.norm(emb2))]))\n",
      "/tmp/ipykernel_19846/1503810142.py:9: RuntimeWarning: invalid value encountered in scalar divide\n",
      "  return next(map(float, [np.sum(emb1 * emb2) / (np.linalg.norm(emb1) * np.linalg.norm(emb2))]))\n",
      "/tmp/ipykernel_19846/1503810142.py:9: RuntimeWarning: invalid value encountered in scalar divide\n",
      "  return next(map(float, [np.sum(emb1 * emb2) / (np.linalg.norm(emb1) * np.linalg.norm(emb2))]))\n",
      "/tmp/ipykernel_19846/1503810142.py:9: RuntimeWarning: invalid value encountered in scalar divide\n",
      "  return next(map(float, [np.sum(emb1 * emb2) / (np.linalg.norm(emb1) * np.linalg.norm(emb2))]))\n",
      "/tmp/ipykernel_19846/1503810142.py:9: RuntimeWarning: invalid value encountered in scalar divide\n",
      "  return next(map(float, [np.sum(emb1 * emb2) / (np.linalg.norm(emb1) * np.linalg.norm(emb2))]))\n",
      "/tmp/ipykernel_19846/1503810142.py:9: RuntimeWarning: invalid value encountered in scalar divide\n",
      "  return next(map(float, [np.sum(emb1 * emb2) / (np.linalg.norm(emb1) * np.linalg.norm(emb2))]))\n",
      "/tmp/ipykernel_19846/1503810142.py:9: RuntimeWarning: invalid value encountered in scalar divide\n",
      "  return next(map(float, [np.sum(emb1 * emb2) / (np.linalg.norm(emb1) * np.linalg.norm(emb2))]))\n",
      "/tmp/ipykernel_19846/1503810142.py:9: RuntimeWarning: invalid value encountered in scalar divide\n",
      "  return next(map(float, [np.sum(emb1 * emb2) / (np.linalg.norm(emb1) * np.linalg.norm(emb2))]))\n",
      "/tmp/ipykernel_19846/1503810142.py:9: RuntimeWarning: invalid value encountered in scalar divide\n",
      "  return next(map(float, [np.sum(emb1 * emb2) / (np.linalg.norm(emb1) * np.linalg.norm(emb2))]))\n",
      "/tmp/ipykernel_19846/1503810142.py:9: RuntimeWarning: invalid value encountered in scalar divide\n",
      "  return next(map(float, [np.sum(emb1 * emb2) / (np.linalg.norm(emb1) * np.linalg.norm(emb2))]))\n",
      "/tmp/ipykernel_19846/1503810142.py:9: RuntimeWarning: invalid value encountered in scalar divide\n",
      "  return next(map(float, [np.sum(emb1 * emb2) / (np.linalg.norm(emb1) * np.linalg.norm(emb2))]))\n",
      "/tmp/ipykernel_19846/1503810142.py:9: RuntimeWarning: invalid value encountered in scalar divide\n",
      "  return next(map(float, [np.sum(emb1 * emb2) / (np.linalg.norm(emb1) * np.linalg.norm(emb2))]))\n",
      "/tmp/ipykernel_19846/1503810142.py:9: RuntimeWarning: invalid value encountered in scalar divide\n",
      "  return next(map(float, [np.sum(emb1 * emb2) / (np.linalg.norm(emb1) * np.linalg.norm(emb2))]))\n",
      "/tmp/ipykernel_19846/1503810142.py:9: RuntimeWarning: invalid value encountered in scalar divide\n",
      "  return next(map(float, [np.sum(emb1 * emb2) / (np.linalg.norm(emb1) * np.linalg.norm(emb2))]))\n",
      "/tmp/ipykernel_19846/1503810142.py:9: RuntimeWarning: invalid value encountered in scalar divide\n",
      "  return next(map(float, [np.sum(emb1 * emb2) / (np.linalg.norm(emb1) * np.linalg.norm(emb2))]))\n",
      "/tmp/ipykernel_19846/1503810142.py:9: RuntimeWarning: invalid value encountered in scalar divide\n",
      "  return next(map(float, [np.sum(emb1 * emb2) / (np.linalg.norm(emb1) * np.linalg.norm(emb2))]))\n",
      "/tmp/ipykernel_19846/1503810142.py:9: RuntimeWarning: invalid value encountered in scalar divide\n",
      "  return next(map(float, [np.sum(emb1 * emb2) / (np.linalg.norm(emb1) * np.linalg.norm(emb2))]))\n",
      "/tmp/ipykernel_19846/1503810142.py:9: RuntimeWarning: invalid value encountered in scalar divide\n",
      "  return next(map(float, [np.sum(emb1 * emb2) / (np.linalg.norm(emb1) * np.linalg.norm(emb2))]))\n",
      "/tmp/ipykernel_19846/1503810142.py:9: RuntimeWarning: invalid value encountered in scalar divide\n",
      "  return next(map(float, [np.sum(emb1 * emb2) / (np.linalg.norm(emb1) * np.linalg.norm(emb2))]))\n",
      "/tmp/ipykernel_19846/1503810142.py:9: RuntimeWarning: invalid value encountered in scalar divide\n",
      "  return next(map(float, [np.sum(emb1 * emb2) / (np.linalg.norm(emb1) * np.linalg.norm(emb2))]))\n",
      "/tmp/ipykernel_19846/1503810142.py:9: RuntimeWarning: invalid value encountered in scalar divide\n",
      "  return next(map(float, [np.sum(emb1 * emb2) / (np.linalg.norm(emb1) * np.linalg.norm(emb2))]))\n",
      "/tmp/ipykernel_19846/1503810142.py:9: RuntimeWarning: invalid value encountered in scalar divide\n",
      "  return next(map(float, [np.sum(emb1 * emb2) / (np.linalg.norm(emb1) * np.linalg.norm(emb2))]))\n",
      "/tmp/ipykernel_19846/1503810142.py:9: RuntimeWarning: invalid value encountered in scalar divide\n",
      "  return next(map(float, [np.sum(emb1 * emb2) / (np.linalg.norm(emb1) * np.linalg.norm(emb2))]))\n",
      "/tmp/ipykernel_19846/1503810142.py:9: RuntimeWarning: invalid value encountered in scalar divide\n",
      "  return next(map(float, [np.sum(emb1 * emb2) / (np.linalg.norm(emb1) * np.linalg.norm(emb2))]))\n",
      "/tmp/ipykernel_19846/1503810142.py:9: RuntimeWarning: invalid value encountered in scalar divide\n",
      "  return next(map(float, [np.sum(emb1 * emb2) / (np.linalg.norm(emb1) * np.linalg.norm(emb2))]))\n",
      "/tmp/ipykernel_19846/1503810142.py:9: RuntimeWarning: invalid value encountered in scalar divide\n",
      "  return next(map(float, [np.sum(emb1 * emb2) / (np.linalg.norm(emb1) * np.linalg.norm(emb2))]))\n",
      "/tmp/ipykernel_19846/1503810142.py:9: RuntimeWarning: invalid value encountered in scalar divide\n",
      "  return next(map(float, [np.sum(emb1 * emb2) / (np.linalg.norm(emb1) * np.linalg.norm(emb2))]))\n",
      "/tmp/ipykernel_19846/1503810142.py:9: RuntimeWarning: invalid value encountered in scalar divide\n",
      "  return next(map(float, [np.sum(emb1 * emb2) / (np.linalg.norm(emb1) * np.linalg.norm(emb2))]))\n",
      "/tmp/ipykernel_19846/1503810142.py:9: RuntimeWarning: invalid value encountered in scalar divide\n",
      "  return next(map(float, [np.sum(emb1 * emb2) / (np.linalg.norm(emb1) * np.linalg.norm(emb2))]))\n",
      "/tmp/ipykernel_19846/1503810142.py:9: RuntimeWarning: invalid value encountered in scalar divide\n",
      "  return next(map(float, [np.sum(emb1 * emb2) / (np.linalg.norm(emb1) * np.linalg.norm(emb2))]))\n",
      "/tmp/ipykernel_19846/1503810142.py:9: RuntimeWarning: invalid value encountered in scalar divide\n",
      "  return next(map(float, [np.sum(emb1 * emb2) / (np.linalg.norm(emb1) * np.linalg.norm(emb2))]))\n",
      "/tmp/ipykernel_19846/1503810142.py:9: RuntimeWarning: invalid value encountered in scalar divide\n",
      "  return next(map(float, [np.sum(emb1 * emb2) / (np.linalg.norm(emb1) * np.linalg.norm(emb2))]))\n",
      "/tmp/ipykernel_19846/1503810142.py:9: RuntimeWarning: invalid value encountered in scalar divide\n",
      "  return next(map(float, [np.sum(emb1 * emb2) / (np.linalg.norm(emb1) * np.linalg.norm(emb2))]))\n",
      "/tmp/ipykernel_19846/1503810142.py:9: RuntimeWarning: invalid value encountered in scalar divide\n",
      "  return next(map(float, [np.sum(emb1 * emb2) / (np.linalg.norm(emb1) * np.linalg.norm(emb2))]))\n",
      "/tmp/ipykernel_19846/1503810142.py:9: RuntimeWarning: invalid value encountered in scalar divide\n",
      "  return next(map(float, [np.sum(emb1 * emb2) / (np.linalg.norm(emb1) * np.linalg.norm(emb2))]))\n",
      "/tmp/ipykernel_19846/1503810142.py:9: RuntimeWarning: invalid value encountered in scalar divide\n",
      "  return next(map(float, [np.sum(emb1 * emb2) / (np.linalg.norm(emb1) * np.linalg.norm(emb2))]))\n",
      "/tmp/ipykernel_19846/1503810142.py:9: RuntimeWarning: invalid value encountered in scalar divide\n",
      "  return next(map(float, [np.sum(emb1 * emb2) / (np.linalg.norm(emb1) * np.linalg.norm(emb2))]))\n",
      "/tmp/ipykernel_19846/1503810142.py:9: RuntimeWarning: invalid value encountered in scalar divide\n",
      "  return next(map(float, [np.sum(emb1 * emb2) / (np.linalg.norm(emb1) * np.linalg.norm(emb2))]))\n",
      "/tmp/ipykernel_19846/1503810142.py:9: RuntimeWarning: invalid value encountered in scalar divide\n",
      "  return next(map(float, [np.sum(emb1 * emb2) / (np.linalg.norm(emb1) * np.linalg.norm(emb2))]))\n",
      "/tmp/ipykernel_19846/1503810142.py:9: RuntimeWarning: invalid value encountered in scalar divide\n",
      "  return next(map(float, [np.sum(emb1 * emb2) / (np.linalg.norm(emb1) * np.linalg.norm(emb2))]))\n",
      "/tmp/ipykernel_19846/1503810142.py:9: RuntimeWarning: invalid value encountered in scalar divide\n",
      "  return next(map(float, [np.sum(emb1 * emb2) / (np.linalg.norm(emb1) * np.linalg.norm(emb2))]))\n",
      "/tmp/ipykernel_19846/1503810142.py:9: RuntimeWarning: invalid value encountered in scalar divide\n",
      "  return next(map(float, [np.sum(emb1 * emb2) / (np.linalg.norm(emb1) * np.linalg.norm(emb2))]))\n",
      "/tmp/ipykernel_19846/1503810142.py:9: RuntimeWarning: invalid value encountered in scalar divide\n",
      "  return next(map(float, [np.sum(emb1 * emb2) / (np.linalg.norm(emb1) * np.linalg.norm(emb2))]))\n"
     ]
    },
    {
     "data": {
      "text/html": [
       "<div>\n",
       "<style scoped>\n",
       "    .dataframe tbody tr th:only-of-type {\n",
       "        vertical-align: middle;\n",
       "    }\n",
       "\n",
       "    .dataframe tbody tr th {\n",
       "        vertical-align: top;\n",
       "    }\n",
       "\n",
       "    .dataframe thead th {\n",
       "        text-align: right;\n",
       "    }\n",
       "</style>\n",
       "<table border=\"1\" class=\"dataframe\">\n",
       "  <thead>\n",
       "    <tr style=\"text-align: right;\">\n",
       "      <th></th>\n",
       "      <th>enroll_sess</th>\n",
       "      <th>auth_sess</th>\n",
       "      <th>enroll_user</th>\n",
       "      <th>enroll_camera_label</th>\n",
       "      <th>enroll_user_device_camera</th>\n",
       "      <th>auth_user</th>\n",
       "      <th>auth_camera_label</th>\n",
       "      <th>auth_user_device_camera</th>\n",
       "      <th>is_same_user</th>\n",
       "      <th>is_same_camera_label</th>\n",
       "      <th>is_same_user_device_camera</th>\n",
       "      <th>similarity</th>\n",
       "    </tr>\n",
       "  </thead>\n",
       "  <tbody>\n",
       "    <tr>\n",
       "      <th>0</th>\n",
       "      <td>ahmed.atef@keyless.io_1750871273156_1.0.8</td>\n",
       "      <td>ahmed.atef@keyless.io_1750871501815_1.0.8</td>\n",
       "      <td>ahmed.atef@keyless.io</td>\n",
       "      <td>Camo</td>\n",
       "      <td>ahmed.atef@keyless.io___79a3a0040ddba27de980b1...</td>\n",
       "      <td>ahmed.atef@keyless.io</td>\n",
       "      <td>Camo</td>\n",
       "      <td>ahmed.atef@keyless.io___79a3a0040ddba27de980b1...</td>\n",
       "      <td>True</td>\n",
       "      <td>True</td>\n",
       "      <td>True</td>\n",
       "      <td>0.436949</td>\n",
       "    </tr>\n",
       "    <tr>\n",
       "      <th>1</th>\n",
       "      <td>ahmed.atef@keyless.io_1750871273156_1.0.8</td>\n",
       "      <td>ahmed.atef@keyless.io_1750871561316_1.0.8</td>\n",
       "      <td>ahmed.atef@keyless.io</td>\n",
       "      <td>Camo</td>\n",
       "      <td>ahmed.atef@keyless.io___79a3a0040ddba27de980b1...</td>\n",
       "      <td>ahmed.atef@keyless.io</td>\n",
       "      <td>Fantech Luminous C30 (1d6c:1278)</td>\n",
       "      <td>ahmed.atef@keyless.io___01d1c987f5595b61ccf52e...</td>\n",
       "      <td>True</td>\n",
       "      <td>False</td>\n",
       "      <td>False</td>\n",
       "      <td>-0.005470</td>\n",
       "    </tr>\n",
       "    <tr>\n",
       "      <th>2</th>\n",
       "      <td>ahmed.atef@keyless.io_1750871273156_1.0.8</td>\n",
       "      <td>ahmed.atef@keyless.io_1750871606693_1.0.8</td>\n",
       "      <td>ahmed.atef@keyless.io</td>\n",
       "      <td>Camo</td>\n",
       "      <td>ahmed.atef@keyless.io___79a3a0040ddba27de980b1...</td>\n",
       "      <td>ahmed.atef@keyless.io</td>\n",
       "      <td>Fantech Luminous C30 (1d6c:1278)</td>\n",
       "      <td>ahmed.atef@keyless.io___01d1c987f5595b61ccf52e...</td>\n",
       "      <td>True</td>\n",
       "      <td>False</td>\n",
       "      <td>False</td>\n",
       "      <td>-0.001384</td>\n",
       "    </tr>\n",
       "  </tbody>\n",
       "</table>\n",
       "</div>"
      ],
      "text/plain": [
       "                                 enroll_sess  \\\n",
       "0  ahmed.atef@keyless.io_1750871273156_1.0.8   \n",
       "1  ahmed.atef@keyless.io_1750871273156_1.0.8   \n",
       "2  ahmed.atef@keyless.io_1750871273156_1.0.8   \n",
       "\n",
       "                                   auth_sess            enroll_user  \\\n",
       "0  ahmed.atef@keyless.io_1750871501815_1.0.8  ahmed.atef@keyless.io   \n",
       "1  ahmed.atef@keyless.io_1750871561316_1.0.8  ahmed.atef@keyless.io   \n",
       "2  ahmed.atef@keyless.io_1750871606693_1.0.8  ahmed.atef@keyless.io   \n",
       "\n",
       "  enroll_camera_label                          enroll_user_device_camera  \\\n",
       "0                Camo  ahmed.atef@keyless.io___79a3a0040ddba27de980b1...   \n",
       "1                Camo  ahmed.atef@keyless.io___79a3a0040ddba27de980b1...   \n",
       "2                Camo  ahmed.atef@keyless.io___79a3a0040ddba27de980b1...   \n",
       "\n",
       "               auth_user                 auth_camera_label  \\\n",
       "0  ahmed.atef@keyless.io                              Camo   \n",
       "1  ahmed.atef@keyless.io  Fantech Luminous C30 (1d6c:1278)   \n",
       "2  ahmed.atef@keyless.io  Fantech Luminous C30 (1d6c:1278)   \n",
       "\n",
       "                             auth_user_device_camera  is_same_user  \\\n",
       "0  ahmed.atef@keyless.io___79a3a0040ddba27de980b1...          True   \n",
       "1  ahmed.atef@keyless.io___01d1c987f5595b61ccf52e...          True   \n",
       "2  ahmed.atef@keyless.io___01d1c987f5595b61ccf52e...          True   \n",
       "\n",
       "   is_same_camera_label  is_same_user_device_camera  similarity  \n",
       "0                  True                        True    0.436949  \n",
       "1                 False                       False   -0.005470  \n",
       "2                 False                       False   -0.001384  "
      ]
     },
     "execution_count": 19,
     "metadata": {},
     "output_type": "execute_result"
    }
   ],
   "source": [
    "def calculate_scores(df, emb_map):\n",
    "    rows = []\n",
    "\n",
    "    # cache similar\n",
    "    scores = {}\n",
    "\n",
    "    for sess_enroll, enrl_df in tqdm(df.groupby('session_folder')):\n",
    "        for sess_auth, auth_df in df.groupby('session_folder'):\n",
    "            # enrl_imgs = get_session(ds, df, sess_enroll)[\"img_raw\"]\n",
    "            # auth_imgs = get_session(ds, df, sess_auth)[\"img_raw\"]\n",
    "\n",
    "            if sess_enroll == sess_auth:\n",
    "                continue\n",
    "\n",
    "            enrl_row = enrl_df.iloc[0]\n",
    "            auth_row = auth_df.iloc[0]\n",
    "\n",
    "            if enrl_row.subject_name != auth_row.subject_name:\n",
    "                continue\n",
    "\n",
    "            combo_idx = tuple(sorted([sess_enroll, sess_auth]))\n",
    "            if combo_idx in scores:\n",
    "                sim_score = scores[combo_idx]\n",
    "            else:\n",
    "                enrl_emb = emb_map[sess_enroll]\n",
    "                auth_emb = emb_map[sess_auth]\n",
    "                sim_score = prnu_similarity(enrl_emb, auth_emb)\n",
    "                scores[combo_idx] = sim_score\n",
    "            \n",
    "            rows.append({\n",
    "                'enroll_sess': sess_enroll,\n",
    "                'auth_sess': sess_auth,\n",
    "\n",
    "                'enroll_user': enrl_row.subject_name,\n",
    "                'enroll_camera_label': enrl_row.camera_label,\n",
    "                'enroll_user_device_camera': enrl_row.user_device_camera,\n",
    "\n",
    "                'auth_user': auth_row.subject_name,\n",
    "                'auth_camera_label': auth_row.camera_label,\n",
    "                'auth_user_device_camera': auth_row.user_device_camera,\n",
    "\n",
    "                'is_same_user': enrl_row.subject_name == auth_row.subject_name,\n",
    "                'is_same_camera_label': enrl_row.camera_label == auth_row.camera_label,\n",
    "                'is_same_user_device_camera': enrl_row.user_device_camera == auth_row.user_device_camera,\n",
    "\n",
    "                'similarity': sim_score, # This is your score\n",
    "            })\n",
    "\n",
    "    return rows\n",
    "\n",
    "pred_df = pd.DataFrame(calculate_scores(df, emb_map))\n",
    "pred_df.head(3)\n"
   ]
  },
  {
   "cell_type": "code",
   "execution_count": 20,
   "metadata": {},
   "outputs": [
    {
     "name": "stdout",
     "output_type": "stream",
     "text": [
      "ds (296548, 12) saved to \"all_preds_same_user.parquet\"\n"
     ]
    }
   ],
   "source": [
    "output_parquet_path = 'all_preds_same_user.parquet'\n",
    "pred_df.to_parquet(output_parquet_path)\n",
    "print(f'ds {pred_df.shape} saved to \"{output_parquet_path}\"')"
   ]
  },
  {
   "cell_type": "code",
   "execution_count": 70,
   "metadata": {},
   "outputs": [],
   "source": [
    "pred_df = pred_df[pred_df.enroll_user.isin(viable_users)]"
   ]
  },
  {
   "cell_type": "code",
   "execution_count": 71,
   "metadata": {},
   "outputs": [
    {
     "data": {
      "text/plain": [
       "<matplotlib.lines.Line2D at 0x7ff667ba6150>"
      ]
     },
     "execution_count": 71,
     "metadata": {},
     "output_type": "execute_result"
    },
    {
     "data": {
      "image/png": "[encoded data removed]",
      "text/plain": [
       "<Figure size 640x480 with 1 Axes>"
      ]
     },
     "metadata": {},
     "output_type": "display_data"
    }
   ],
   "source": [
    "pred_df.similarity.hist(bins=100)\n",
    "plt.axvline(x=0.02, color='red', linestyle='--', linewidth=1)"
   ]
  },
  {
   "cell_type": "code",
   "execution_count": 72,
   "metadata": {},
   "outputs": [],
   "source": [
    "def get_FAR_FRR(df, thr=0.5, pred_col='similarity', target_col='is_same_user_device_camera'):\n",
    "    targets = df[target_col]\n",
    "    pred_proba = df[pred_col]\n",
    "    \n",
    "    preds = pred_proba > thr\n",
    "    TP = sum((targets == True) & (preds == True))\n",
    "    FP = sum((targets == False) & (preds == True))\n",
    "    TN = sum((targets == False) & (preds == False))\n",
    "    FN = sum((targets == True) & (preds == False))\n",
    "\n",
    "    if (TN + FP) == 0:\n",
    "        FAR = None\n",
    "    else:\n",
    "        FAR = FP / (TN + FP)\n",
    "\n",
    "    if (TP + FN) == 0:\n",
    "        FRR = None\n",
    "    else:\n",
    "        FRR = FN / (TP + FN)\n",
    "\n",
    "    # print(f'FAR: {FAR:.1%}')\n",
    "    # print(f'FRR: {FRR:.1%}')\n",
    "    return FAR, FRR\n"
   ]
  },
  {
   "cell_type": "code",
   "execution_count": 125,
   "metadata": {},
   "outputs": [
    {
     "data": {
      "application/vnd.jupyter.widget-view+json": {
       "model_id": "4170b73754414981bf35c5485e8ff127",
       "version_major": 2,
       "version_minor": 0
      },
      "text/plain": [
       "  0%|          | 0/40 [00:00<?, ?it/s]"
      ]
     },
     "metadata": {},
     "output_type": "display_data"
    }
   ],
   "source": [
    "subject_fars = {}\n",
    "subject_frrs = {}\n",
    "for subject_name, subject_df in tqdm(pred_df.groupby('enroll_user')):\n",
    "    fars = []\n",
    "    frrs = []\n",
    "    for t in np.arange(0, 0.2, 0.002):\n",
    "        far, frr = get_FAR_FRR(subject_df, t)\n",
    "        fars.append(far)\n",
    "        frrs.append(frr)\n",
    "    subject_fars[subject_name] = fars\n",
    "    subject_frrs[subject_name] = frrs\n"
   ]
  },
  {
   "cell_type": "code",
   "execution_count": 126,
   "metadata": {},
   "outputs": [
    {
     "data": {
      "text/plain": [
       "<Axes: >"
      ]
     },
     "execution_count": 126,
     "metadata": {},
     "output_type": "execute_result"
    },
    {
     "data": {
      "image/png": "[encoded data removed]",
      "text/plain": [
       "<Figure size 640x480 with 1 Axes>"
      ]
     },
     "metadata": {},
     "output_type": "display_data"
    }
   ],
   "source": [
    "pd.DataFrame(subject_frrs).iloc[0].hist(bins=20)"
   ]
  },
  {
   "cell_type": "code",
   "execution_count": 127,
   "metadata": {},
   "outputs": [
    {
     "data": {
      "text/plain": [
       "FAR    72.9%\n",
       "FRR    12.3%\n",
       "dtype: object"
      ]
     },
     "metadata": {},
     "output_type": "display_data"
    },
    {
     "data": {
      "text/html": [
       "<div>\n",
       "<style scoped>\n",
       "    .dataframe tbody tr th:only-of-type {\n",
       "        vertical-align: middle;\n",
       "    }\n",
       "\n",
       "    .dataframe tbody tr th {\n",
       "        vertical-align: top;\n",
       "    }\n",
       "\n",
       "    .dataframe thead th {\n",
       "        text-align: right;\n",
       "    }\n",
       "</style>\n",
       "<table border=\"1\" class=\"dataframe\">\n",
       "  <thead>\n",
       "    <tr style=\"text-align: right;\">\n",
       "      <th></th>\n",
       "      <th>FAR</th>\n",
       "      <th>FRR</th>\n",
       "    </tr>\n",
       "  </thead>\n",
       "  <tbody>\n",
       "    <tr>\n",
       "      <th>gabriele.paolocci@keyless.io</th>\n",
       "      <td>75.0%</td>\n",
       "      <td>0.0%</td>\n",
       "    </tr>\n",
       "    <tr>\n",
       "      <th>alessandro.dangeli@keyless.io</th>\n",
       "      <td>100.0%</td>\n",
       "      <td>0.0%</td>\n",
       "    </tr>\n",
       "    <tr>\n",
       "      <th>alex.jones@keyless.io</th>\n",
       "      <td>64.3%</td>\n",
       "      <td>0.0%</td>\n",
       "    </tr>\n",
       "    <tr>\n",
       "      <th>mathias.hoellerl@keyless.io</th>\n",
       "      <td>94.1%</td>\n",
       "      <td>0.0%</td>\n",
       "    </tr>\n",
       "    <tr>\n",
       "      <th>francesco@keyless.io</th>\n",
       "      <td>100.0%</td>\n",
       "      <td>0.0%</td>\n",
       "    </tr>\n",
       "    <tr>\n",
       "      <th>dean.stevenson@keyless.io</th>\n",
       "      <td>61.9%</td>\n",
       "      <td>0.0%</td>\n",
       "    </tr>\n",
       "    <tr>\n",
       "      <th>ali.nazem@keyless.io</th>\n",
       "      <td>98.5%</td>\n",
       "      <td>0.6%</td>\n",
       "    </tr>\n",
       "    <tr>\n",
       "      <th>ahmed.atef@keyless.io</th>\n",
       "      <td>78.9%</td>\n",
       "      <td>1.7%</td>\n",
       "    </tr>\n",
       "    <tr>\n",
       "      <th>max@keyless.io</th>\n",
       "      <td>67.5%</td>\n",
       "      <td>2.6%</td>\n",
       "    </tr>\n",
       "    <tr>\n",
       "      <th>zac@keyless.io</th>\n",
       "      <td>47.6%</td>\n",
       "      <td>2.8%</td>\n",
       "    </tr>\n",
       "    <tr>\n",
       "      <th>jacopo.bartolini@keyless.io</th>\n",
       "      <td>80.6%</td>\n",
       "      <td>3.3%</td>\n",
       "    </tr>\n",
       "    <tr>\n",
       "      <th>primiano.medugno@keyless.io</th>\n",
       "      <td>83.8%</td>\n",
       "      <td>4.8%</td>\n",
       "    </tr>\n",
       "    <tr>\n",
       "      <th>mario.digirolamo@keyless.io</th>\n",
       "      <td>62.5%</td>\n",
       "      <td>5.4%</td>\n",
       "    </tr>\n",
       "    <tr>\n",
       "      <th>william.dias@keyless.io</th>\n",
       "      <td>86.9%</td>\n",
       "      <td>5.8%</td>\n",
       "    </tr>\n",
       "    <tr>\n",
       "      <th>francesca.mavilio@keyless.io</th>\n",
       "      <td>71.7%</td>\n",
       "      <td>5.9%</td>\n",
       "    </tr>\n",
       "    <tr>\n",
       "      <th>antonio.epifani@keyless.io</th>\n",
       "      <td>53.3%</td>\n",
       "      <td>8.0%</td>\n",
       "    </tr>\n",
       "    <tr>\n",
       "      <th>mattia.vighesso@keyless.io</th>\n",
       "      <td>66.1%</td>\n",
       "      <td>8.7%</td>\n",
       "    </tr>\n",
       "    <tr>\n",
       "      <th>lukas@keyless.io</th>\n",
       "      <td>72.1%</td>\n",
       "      <td>8.8%</td>\n",
       "    </tr>\n",
       "    <tr>\n",
       "      <th>alex.piola@keyless.io</th>\n",
       "      <td>79.6%</td>\n",
       "      <td>9.5%</td>\n",
       "    </tr>\n",
       "    <tr>\n",
       "      <th>dalibor.panic@keyless.io</th>\n",
       "      <td>67.4%</td>\n",
       "      <td>11.8%</td>\n",
       "    </tr>\n",
       "    <tr>\n",
       "      <th>iryna.kozoriz@keyless.io</th>\n",
       "      <td>76.4%</td>\n",
       "      <td>12.6%</td>\n",
       "    </tr>\n",
       "    <tr>\n",
       "      <th>michelangelo.fiore@keyless.io</th>\n",
       "      <td>84.9%</td>\n",
       "      <td>12.9%</td>\n",
       "    </tr>\n",
       "    <tr>\n",
       "      <th>tobin.broadfoot@keyless.io</th>\n",
       "      <td>85.5%</td>\n",
       "      <td>13.4%</td>\n",
       "    </tr>\n",
       "    <tr>\n",
       "      <th>daniele@keyless.io</th>\n",
       "      <td>83.3%</td>\n",
       "      <td>13.9%</td>\n",
       "    </tr>\n",
       "    <tr>\n",
       "      <th>fabian@keyless.io</th>\n",
       "      <td>62.5%</td>\n",
       "      <td>14.2%</td>\n",
       "    </tr>\n",
       "    <tr>\n",
       "      <th>andrea.morandotti@keyless.io</th>\n",
       "      <td>82.8%</td>\n",
       "      <td>16.1%</td>\n",
       "    </tr>\n",
       "    <tr>\n",
       "      <th>luca.ugolini@keyless.io</th>\n",
       "      <td>56.6%</td>\n",
       "      <td>16.2%</td>\n",
       "    </tr>\n",
       "    <tr>\n",
       "      <th>marco.albarelli@keyless.io</th>\n",
       "      <td>70.8%</td>\n",
       "      <td>16.3%</td>\n",
       "    </tr>\n",
       "    <tr>\n",
       "      <th>jovana.blagojevic@keyless.io</th>\n",
       "      <td>66.9%</td>\n",
       "      <td>16.4%</td>\n",
       "    </tr>\n",
       "    <tr>\n",
       "      <th>paolo@keyless.io</th>\n",
       "      <td>70.7%</td>\n",
       "      <td>18.6%</td>\n",
       "    </tr>\n",
       "    <tr>\n",
       "      <th>michele@keyless.io</th>\n",
       "      <td>40.9%</td>\n",
       "      <td>23.9%</td>\n",
       "    </tr>\n",
       "    <tr>\n",
       "      <th>davide@keyless.io</th>\n",
       "      <td>45.1%</td>\n",
       "      <td>24.5%</td>\n",
       "    </tr>\n",
       "    <tr>\n",
       "      <th>evgjeni.larushi@keyless.io</th>\n",
       "      <td>66.7%</td>\n",
       "      <td>25.0%</td>\n",
       "    </tr>\n",
       "    <tr>\n",
       "      <th>michele.donzelli@keyless.io</th>\n",
       "      <td>62.1%</td>\n",
       "      <td>27.0%</td>\n",
       "    </tr>\n",
       "    <tr>\n",
       "      <th>domenico.urzi@keyless.io</th>\n",
       "      <td>70.5%</td>\n",
       "      <td>31.2%</td>\n",
       "    </tr>\n",
       "    <tr>\n",
       "      <th>milan.sekulic@keyless.io</th>\n",
       "      <td>100.0%</td>\n",
       "      <td>33.3%</td>\n",
       "    </tr>\n",
       "    <tr>\n",
       "      <th>cecilia.martinez@keyless.io</th>\n",
       "      <td>68.2%</td>\n",
       "      <td>33.3%</td>\n",
       "    </tr>\n",
       "    <tr>\n",
       "      <th>flavio@keyless.io</th>\n",
       "      <td>63.7%</td>\n",
       "      <td>40.1%</td>\n",
       "    </tr>\n",
       "  </tbody>\n",
       "</table>\n",
       "</div>"
      ],
      "text/plain": [
       "                                  FAR    FRR\n",
       "gabriele.paolocci@keyless.io    75.0%   0.0%\n",
       "alessandro.dangeli@keyless.io  100.0%   0.0%\n",
       "alex.jones@keyless.io           64.3%   0.0%\n",
       "mathias.hoellerl@keyless.io     94.1%   0.0%\n",
       "francesco@keyless.io           100.0%   0.0%\n",
       "dean.stevenson@keyless.io       61.9%   0.0%\n",
       "ali.nazem@keyless.io            98.5%   0.6%\n",
       "ahmed.atef@keyless.io           78.9%   1.7%\n",
       "max@keyless.io                  67.5%   2.6%\n",
       "zac@keyless.io                  47.6%   2.8%\n",
       "jacopo.bartolini@keyless.io     80.6%   3.3%\n",
       "primiano.medugno@keyless.io     83.8%   4.8%\n",
       "mario.digirolamo@keyless.io     62.5%   5.4%\n",
       "william.dias@keyless.io         86.9%   5.8%\n",
       "francesca.mavilio@keyless.io    71.7%   5.9%\n",
       "antonio.epifani@keyless.io      53.3%   8.0%\n",
       "mattia.vighesso@keyless.io      66.1%   8.7%\n",
       "lukas@keyless.io                72.1%   8.8%\n",
       "alex.piola@keyless.io           79.6%   9.5%\n",
       "dalibor.panic@keyless.io        67.4%  11.8%\n",
       "iryna.kozoriz@keyless.io        76.4%  12.6%\n",
       "michelangelo.fiore@keyless.io   84.9%  12.9%\n",
       "tobin.broadfoot@keyless.io      85.5%  13.4%\n",
       "daniele@keyless.io              83.3%  13.9%\n",
       "fabian@keyless.io               62.5%  14.2%\n",
       "andrea.morandotti@keyless.io    82.8%  16.1%\n",
       "luca.ugolini@keyless.io         56.6%  16.2%\n",
       "marco.albarelli@keyless.io      70.8%  16.3%\n",
       "jovana.blagojevic@keyless.io    66.9%  16.4%\n",
       "paolo@keyless.io                70.7%  18.6%\n",
       "michele@keyless.io              40.9%  23.9%\n",
       "davide@keyless.io               45.1%  24.5%\n",
       "evgjeni.larushi@keyless.io      66.7%  25.0%\n",
       "michele.donzelli@keyless.io     62.1%  27.0%\n",
       "domenico.urzi@keyless.io        70.5%  31.2%\n",
       "milan.sekulic@keyless.io       100.0%  33.3%\n",
       "cecilia.martinez@keyless.io     68.2%  33.3%\n",
       "flavio@keyless.io               63.7%  40.1%"
      ]
     },
     "execution_count": 127,
     "metadata": {},
     "output_type": "execute_result"
    }
   ],
   "source": [
    "idx = 0\n",
    "fars_per_user = pd.DataFrame(subject_fars).iloc[idx]#.sort_values().apply(lambda x: f\"{x:.1%}\" if x else 'N/A')\n",
    "frrs_per_user = pd.DataFrame(subject_frrs).iloc[idx]#.sort_values().apply(lambda x: f\"{x:.1%}\" if x else 'N/A')\n",
    "far_frr_merged = pd.concat([fars_per_user.sort_index(), frrs_per_user.sort_index() ], axis=1)\n",
    "far_frr_merged.columns=['FAR', 'FRR']\n",
    "mask = (~far_frr_merged.isna()).min(axis=1)\n",
    "display(far_frr_merged[mask].mean().map(lambda x: f\"{x:.1%}\" if x is not None else 'N/A'))\n",
    "far_frr_merged[mask].sort_values(by='FRR').map(lambda x: f\"{x:.1%}\" if x is not None else 'N/A')"
   ]
  },
  {
   "cell_type": "code",
   "execution_count": 128,
   "metadata": {},
   "outputs": [
    {
     "data": {
      "text/plain": [
       "array([0.1233198197916017, 0.1917202757899646, 0.27925647465335013,\n",
       "       0.3723346151492365], dtype=object)"
      ]
     },
     "execution_count": 128,
     "metadata": {},
     "output_type": "execute_result"
    }
   ],
   "source": [
    "frrs = pd.DataFrame(subject_frrs).mean(axis=1).values\n",
    "frrs[:4]"
   ]
  },
  {
   "cell_type": "code",
   "execution_count": 129,
   "metadata": {},
   "outputs": [
    {
     "data": {
      "text/plain": [
       "array([0.74236949, 0.58185117, 0.43879413, 0.3396394 ])"
      ]
     },
     "execution_count": 129,
     "metadata": {},
     "output_type": "execute_result"
    }
   ],
   "source": [
    "fars = pd.DataFrame(subject_fars).mean(axis=1).values\n",
    "fars[:4]"
   ]
  },
  {
   "cell_type": "code",
   "execution_count": 130,
   "metadata": {},
   "outputs": [],
   "source": [
    "def get_closest_to_far(target_far, fars, frrs):\n",
    "    idx = (np.array(fars) < target_far).argmax()\n",
    "    return fars[idx], frrs[idx]\n",
    "\n",
    "def get_closest_to_frr(target_frr, fars, frrs):\n",
    "    idx = (np.array(frrs) > target_frr).argmax()\n",
    "    print(idx)\n",
    "    return fars[idx], frrs[idx]"
   ]
  },
  {
   "cell_type": "code",
   "execution_count": 131,
   "metadata": {},
   "outputs": [
    {
     "name": "stdout",
     "output_type": "stream",
     "text": [
      "0\n"
     ]
    },
    {
     "data": {
      "text/plain": [
       "Text(0.5, 1.0, '12.3% FRR @ 74.2% FAR')"
      ]
     },
     "execution_count": 131,
     "metadata": {},
     "output_type": "execute_result"
    },
    {
     "data": {
      "image/png": "[encoded data removed]",
      "text/plain": [
       "<Figure size 640x480 with 1 Axes>"
      ]
     },
     "metadata": {},
     "output_type": "display_data"
    }
   ],
   "source": [
    "\n",
    "target_frr = 0.08\n",
    "sel_far, sel_frr = get_closest_to_frr(target_frr, fars, frrs)\n",
    "\n",
    "plt.plot(fars, frrs)\n",
    "plt.xlabel('FAR')\n",
    "plt.ylabel('FRR')\n",
    "plt.grid()\n",
    "plt.xlim(0, 1)\n",
    "plt.ylim(0, 1)\n",
    "plt.axvline(x=sel_far, color='red', linestyle='--', linewidth=1)\n",
    "plt.title(f'{sel_frr:.1%} FRR @ {sel_far:.1%} FAR')"
   ]
  },
  {
   "cell_type": "code",
   "execution_count": 133,
   "metadata": {},
   "outputs": [
    {
     "data": {
      "text/plain": [
       "157"
      ]
     },
     "execution_count": 133,
     "metadata": {},
     "output_type": "execute_result"
    }
   ],
   "source": [
    "pred_df.enroll_user_device_camera.nunique()"
   ]
  }
 ],
 "metadata": {
  "kernelspec": {
   "display_name": ".venv",
   "language": "python",
   "name": "python3"
  },
  "language_info": {
   "codemirror_mode": {
    "name": "ipython",
    "version": 3
   },
   "file_extension": ".py",
   "mimetype": "text/x-python",
   "name": "python",
   "nbconvert_exporter": "python",
   "pygments_lexer": "ipython3",
   "version": "3.11.11"
  }
 },
 "nbformat": 4,
 "nbformat_minor": 2
}
