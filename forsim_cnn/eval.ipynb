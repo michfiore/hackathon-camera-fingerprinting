{
 "cells": [
  {
   "cell_type": "code",
   "execution_count": 1,
   "metadata": {},
   "outputs": [
    {
     "name": "stderr",
     "output_type": "stream",
     "text": [
      "/home/waldir/miniforge3/envs/tf115/lib/python3.7/site-packages/tqdm/auto.py:21: TqdmWarning: IProgress not found. Please update jupyter and ipywidgets. See https://ipywidgets.readthedocs.io/en/stable/user_install.html\n",
      "  from .autonotebook import tqdm as notebook_tqdm\n"
     ]
    }
   ],
   "source": [
    "import numpy as np\n",
    "import pandas as pd\n",
    "from tqdm.auto import tqdm\n",
    "import os"
   ]
  },
  {
   "cell_type": "code",
   "execution_count": 2,
   "metadata": {},
   "outputs": [],
   "source": [
    "import matplotlib.pyplot as plt"
   ]
  },
  {
   "cell_type": "code",
   "execution_count": 3,
   "metadata": {},
   "outputs": [],
   "source": [
    "pred_df = pd.read_parquet('pred_df_128_8_8.parquet')"
   ]
  },
  {
   "cell_type": "code",
   "execution_count": 4,
   "metadata": {},
   "outputs": [
    {
     "data": {
      "text/plain": [
       "(77284, 12)"
      ]
     },
     "execution_count": 4,
     "metadata": {},
     "output_type": "execute_result"
    }
   ],
   "source": [
    "pred_df.shape"
   ]
  },
  {
   "cell_type": "code",
   "execution_count": 5,
   "metadata": {},
   "outputs": [
    {
     "data": {
      "text/html": [
       "<div>\n",
       "<style scoped>\n",
       "    .dataframe tbody tr th:only-of-type {\n",
       "        vertical-align: middle;\n",
       "    }\n",
       "\n",
       "    .dataframe tbody tr th {\n",
       "        vertical-align: top;\n",
       "    }\n",
       "\n",
       "    .dataframe thead th {\n",
       "        text-align: right;\n",
       "    }\n",
       "</style>\n",
       "<table border=\"1\" class=\"dataframe\">\n",
       "  <thead>\n",
       "    <tr style=\"text-align: right;\">\n",
       "      <th></th>\n",
       "      <th>enroll_sess</th>\n",
       "      <th>auth_sess</th>\n",
       "      <th>enroll_user</th>\n",
       "      <th>enroll_camera_label</th>\n",
       "      <th>enroll_user_device_camera</th>\n",
       "      <th>auth_user</th>\n",
       "      <th>auth_camera_label</th>\n",
       "      <th>auth_user_device_camera</th>\n",
       "      <th>is_same_user</th>\n",
       "      <th>is_same_camera_label</th>\n",
       "      <th>is_same_user_device_camera</th>\n",
       "      <th>similarity</th>\n",
       "    </tr>\n",
       "  </thead>\n",
       "  <tbody>\n",
       "    <tr>\n",
       "      <th>0</th>\n",
       "      <td>ahmed.atef@keyless.io_1750871273156_1.0.8</td>\n",
       "      <td>ahmed.atef@keyless.io_1750871273156_1.0.8</td>\n",
       "      <td>ahmed.atef@keyless.io</td>\n",
       "      <td>Camo</td>\n",
       "      <td>ahmed.atef@keyless.io___79a3a0040ddba27de980b1...</td>\n",
       "      <td>ahmed.atef@keyless.io</td>\n",
       "      <td>Camo</td>\n",
       "      <td>ahmed.atef@keyless.io___79a3a0040ddba27de980b1...</td>\n",
       "      <td>True</td>\n",
       "      <td>True</td>\n",
       "      <td>True</td>\n",
       "      <td>0.871620</td>\n",
       "    </tr>\n",
       "    <tr>\n",
       "      <th>1</th>\n",
       "      <td>ahmed.atef@keyless.io_1750871273156_1.0.8</td>\n",
       "      <td>ahmed.atef@keyless.io_1750871501815_1.0.8</td>\n",
       "      <td>ahmed.atef@keyless.io</td>\n",
       "      <td>Camo</td>\n",
       "      <td>ahmed.atef@keyless.io___79a3a0040ddba27de980b1...</td>\n",
       "      <td>ahmed.atef@keyless.io</td>\n",
       "      <td>Camo</td>\n",
       "      <td>ahmed.atef@keyless.io___79a3a0040ddba27de980b1...</td>\n",
       "      <td>True</td>\n",
       "      <td>True</td>\n",
       "      <td>True</td>\n",
       "      <td>0.896249</td>\n",
       "    </tr>\n",
       "    <tr>\n",
       "      <th>2</th>\n",
       "      <td>ahmed.atef@keyless.io_1750871273156_1.0.8</td>\n",
       "      <td>ahmed.atef@keyless.io_1750871561316_1.0.8</td>\n",
       "      <td>ahmed.atef@keyless.io</td>\n",
       "      <td>Camo</td>\n",
       "      <td>ahmed.atef@keyless.io___79a3a0040ddba27de980b1...</td>\n",
       "      <td>ahmed.atef@keyless.io</td>\n",
       "      <td>Fantech Luminous C30 (1d6c:1278)</td>\n",
       "      <td>ahmed.atef@keyless.io___01d1c987f5595b61ccf52e...</td>\n",
       "      <td>True</td>\n",
       "      <td>False</td>\n",
       "      <td>False</td>\n",
       "      <td>0.704820</td>\n",
       "    </tr>\n",
       "  </tbody>\n",
       "</table>\n",
       "</div>"
      ],
      "text/plain": [
       "                                 enroll_sess  \\\n",
       "0  ahmed.atef@keyless.io_1750871273156_1.0.8   \n",
       "1  ahmed.atef@keyless.io_1750871273156_1.0.8   \n",
       "2  ahmed.atef@keyless.io_1750871273156_1.0.8   \n",
       "\n",
       "                                   auth_sess            enroll_user  \\\n",
       "0  ahmed.atef@keyless.io_1750871273156_1.0.8  ahmed.atef@keyless.io   \n",
       "1  ahmed.atef@keyless.io_1750871501815_1.0.8  ahmed.atef@keyless.io   \n",
       "2  ahmed.atef@keyless.io_1750871561316_1.0.8  ahmed.atef@keyless.io   \n",
       "\n",
       "  enroll_camera_label                          enroll_user_device_camera  \\\n",
       "0                Camo  ahmed.atef@keyless.io___79a3a0040ddba27de980b1...   \n",
       "1                Camo  ahmed.atef@keyless.io___79a3a0040ddba27de980b1...   \n",
       "2                Camo  ahmed.atef@keyless.io___79a3a0040ddba27de980b1...   \n",
       "\n",
       "               auth_user                 auth_camera_label  \\\n",
       "0  ahmed.atef@keyless.io                              Camo   \n",
       "1  ahmed.atef@keyless.io                              Camo   \n",
       "2  ahmed.atef@keyless.io  Fantech Luminous C30 (1d6c:1278)   \n",
       "\n",
       "                             auth_user_device_camera  is_same_user  \\\n",
       "0  ahmed.atef@keyless.io___79a3a0040ddba27de980b1...          True   \n",
       "1  ahmed.atef@keyless.io___79a3a0040ddba27de980b1...          True   \n",
       "2  ahmed.atef@keyless.io___01d1c987f5595b61ccf52e...          True   \n",
       "\n",
       "   is_same_camera_label  is_same_user_device_camera  similarity  \n",
       "0                  True                        True    0.871620  \n",
       "1                  True                        True    0.896249  \n",
       "2                 False                       False    0.704820  "
      ]
     },
     "execution_count": 5,
     "metadata": {},
     "output_type": "execute_result"
    }
   ],
   "source": [
    "pred_df.head(3)"
   ]
  },
  {
   "cell_type": "code",
   "execution_count": null,
   "metadata": {},
   "outputs": [],
   "source": []
  },
  {
   "cell_type": "code",
   "execution_count": 6,
   "metadata": {},
   "outputs": [
    {
     "data": {
      "text/plain": [
       "<AxesSubplot:>"
      ]
     },
     "execution_count": 6,
     "metadata": {},
     "output_type": "execute_result"
    },
    {
     "data": {
      "image/png": "[encoded data removed]",
      "text/plain": [
       "<Figure size 640x480 with 1 Axes>"
      ]
     },
     "metadata": {},
     "output_type": "display_data"
    }
   ],
   "source": [
    "pred_df.similarity.hist(bins=100)\n",
    "# plt.axvline(x=0.5, color='red', linestyle='--', linewidth=1)"
   ]
  },
  {
   "cell_type": "code",
   "execution_count": 7,
   "metadata": {},
   "outputs": [],
   "source": [
    "def get_FAR_FRR(df, thr=0.5, pred_col='similarity', target_col='is_same_user_device_camera'):\n",
    "    targets = df[target_col]\n",
    "    pred_proba = df[pred_col]\n",
    "    \n",
    "    preds = pred_proba > thr\n",
    "    TP = sum((targets == True) & (preds == True))\n",
    "    FP = sum((targets == False) & (preds == True))\n",
    "    TN = sum((targets == False) & (preds == False))\n",
    "    FN = sum((targets == True) & (preds == False))\n",
    "\n",
    "    FAR = FP / (TN + FP)\n",
    "    FRR = FN / (TP + FN)\n",
    "\n",
    "    # print(f'FAR: {FAR:.1%}')\n",
    "    # print(f'FRR: {FRR:.1%}')\n",
    "    return FAR, FRR\n"
   ]
  },
  {
   "cell_type": "code",
   "execution_count": 8,
   "metadata": {},
   "outputs": [],
   "source": [
    "\n",
    "fars = []\n",
    "frrs = []\n",
    "for t in np.arange(0, 1, 0.01):\n",
    "    far, frr = get_FAR_FRR(pred_df, t)\n",
    "    fars.append(far)\n",
    "    frrs.append(frr)\n"
   ]
  },
  {
   "cell_type": "code",
   "execution_count": 9,
   "metadata": {},
   "outputs": [],
   "source": [
    "def get_closest_to_far(target_far, fars, frrs):\n",
    "    idx = (np.array(fars) < target_far).argmax()\n",
    "    return fars[idx], frrs[idx]\n",
    "\n",
    "def get_closest_to_frr(target_frr, fars, frrs):\n",
    "    idx = (np.array(frrs) > target_frr).argmax()\n",
    "    print(idx)\n",
    "    return fars[idx], frrs[idx]"
   ]
  },
  {
   "cell_type": "code",
   "execution_count": 10,
   "metadata": {},
   "outputs": [
    {
     "name": "stdout",
     "output_type": "stream",
     "text": [
      "88\n"
     ]
    },
    {
     "data": {
      "text/plain": [
       "Text(0.5, 1.0, '9.6% FRR @ 60.7% FAR')"
      ]
     },
     "execution_count": 10,
     "metadata": {},
     "output_type": "execute_result"
    },
    {
     "data": {
      "image/png": "[encoded data removed]",
      "text/plain": [
       "<Figure size 640x480 with 1 Axes>"
      ]
     },
     "metadata": {},
     "output_type": "display_data"
    }
   ],
   "source": [
    "\n",
    "target_frr = 0.08\n",
    "sel_far, sel_frr = get_closest_to_frr(target_frr, fars, frrs)\n",
    "\n",
    "plt.plot(fars, frrs)\n",
    "plt.xlabel('FAR')\n",
    "plt.ylabel('FRR')\n",
    "plt.grid()\n",
    "plt.axvline(x=sel_far, color='red', linestyle='--', linewidth=1)\n",
    "plt.title(f'{sel_frr:.1%} FRR @ {sel_far:.1%} FAR')"
   ]
  }
 ],
 "metadata": {
  "kernelspec": {
   "display_name": "tf115",
   "language": "python",
   "name": "python3"
  },
  "language_info": {
   "codemirror_mode": {
    "name": "ipython",
    "version": 3
   },
   "file_extension": ".py",
   "mimetype": "text/x-python",
   "name": "python",
   "nbconvert_exporter": "python",
   "pygments_lexer": "ipython3",
   "version": "3.7.12"
  }
 },
 "nbformat": 4,
 "nbformat_minor": 2
}
