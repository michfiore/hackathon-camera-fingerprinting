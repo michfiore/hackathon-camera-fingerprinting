{
 "cells": [
  {
   "cell_type": "code",
   "execution_count": null,
   "metadata": {},
   "outputs": [],
   "source": [
    "import datasets\n",
    "import numpy as np\n",
    "import pandas as pd\n",
    "from tqdm.auto import tqdm\n",
    "import os"
   ]
  },
  {
   "cell_type": "code",
   "execution_count": null,
   "metadata": {},
   "outputs": [],
   "source": [
    "ds_uri = 's3://sagemaker-production-eu-central-1-kl-biometric-datasets/raw_datasets/face_biometrics/hackathon_2025-07_camera_fingerprint/'\n",
    "ds_uri = './hf_ds'"
   ]
  },
  {
   "cell_type": "code",
   "execution_count": null,
   "metadata": {},
   "outputs": [],
   "source": [
    "%%time\n",
    "ds = datasets.load_from_disk(ds_uri)\n",
    "len(ds)"
   ]
  },
  {
   "cell_type": "code",
   "execution_count": null,
   "metadata": {},
   "outputs": [],
   "source": [
    "ds[0][\"img_raw\"]"
   ]
  },
  {
   "cell_type": "code",
   "execution_count": null,
   "metadata": {},
   "outputs": [],
   "source": [
    "%%time\n",
    "df = ds.to_pandas()\n",
    "print(df.shape)\n",
    "df.head(3)"
   ]
  },
  {
   "cell_type": "code",
   "execution_count": null,
   "metadata": {},
   "outputs": [],
   "source": [
    "important_columns = [\n",
    "    'subject_name', 'session_folder', 'photo_name', # user / session / frame ids\n",
    "    'gif_link', 'file_timestamp_within_session_ms', 'frame_number', # frame info\n",
    "    'device_metadata', # json string with all the device metadata info\n",
    "    'camera_device_id', 'camera_label', 'user_device_camera', # camera info parsed from device metadata\n",
    "    'split', # test / train split\n",
    "    'os_name', 'os_version', # os info\n",
    "    'img_w', 'img_h', 'img_wh', # img info\n",
    "    'img_raw', # jpg bytes of image\n",
    "\n",
    "]\n",
    "\n",
    "df[important_columns]"
   ]
  },
  {
   "cell_type": "markdown",
   "metadata": {},
   "source": [
    "## Splitted to train/test"
   ]
  },
  {
   "cell_type": "code",
   "execution_count": null,
   "metadata": {},
   "outputs": [],
   "source": [
    "df.split.value_counts(dropna=False)"
   ]
  },
  {
   "cell_type": "code",
   "execution_count": null,
   "metadata": {},
   "outputs": [],
   "source": [
    "for s in df.split.unique():\n",
    "    print(f'split==\"{s}\" users: {set(df[df.split == s].subject_name)}')"
   ]
  },
  {
   "cell_type": "markdown",
   "metadata": {},
   "source": [
    "#### Split is done per user:"
   ]
  },
  {
   "cell_type": "code",
   "execution_count": null,
   "metadata": {},
   "outputs": [],
   "source": [
    "test_df = df[df.split == 'test']\n",
    "print(f'test: {test_df.shape}, sessions: {test_df.session_folder.nunique()}, users: {test_df.subject_name.nunique()}')\n",
    "train_df = df[df.split == 'train']\n",
    "print(f'train: {train_df.shape}, sessions: {train_df.session_folder.nunique()}, users: {train_df.subject_name.nunique()}')\n",
    "\n",
    "assert len(set(test_df.subject_name) & set(train_df.subject_name)) == 0"
   ]
  },
  {
   "cell_type": "markdown",
   "metadata": {},
   "source": [
    "## Most efficient way how to get session"
   ]
  },
  {
   "cell_type": "code",
   "execution_count": null,
   "metadata": {},
   "outputs": [],
   "source": [
    "%%time\n",
    "selected_session_folder = df.iloc[100].session_folder\n",
    "idx_from_df = df[df.session_folder == selected_session_folder].index.tolist()\n",
    "sess_ds = ds.select(idx_from_df)\n",
    "sess_ds[0]['img_raw']"
   ]
  },
  {
   "cell_type": "markdown",
   "metadata": {},
   "source": [
    "## Calculate scores matrix"
   ]
  },
  {
   "cell_type": "code",
   "execution_count": null,
   "metadata": {},
   "outputs": [],
   "source": [
    "def calculate_scores():\n",
    "    rows = []\n",
    "    for sess_enroll, enrl_df in tqdm(test_df.groupby('session_folder')):\n",
    "        for sess_auth, auth_df in test_df.groupby('session_folder'):\n",
    "\n",
    "            sim_score = np.random.rand() # this is your score for session similarity between sess_enroll vs sess_auth\n",
    "            # if your method is symmetrics (ie enroll <> auth is the same as auth <> enroll), please cache the results, as this is looping through everything\n",
    "\n",
    "            enrl_row = enrl_df.iloc[0]\n",
    "            auth_row = auth_df.iloc[0]\n",
    "\n",
    "            rows.append({\n",
    "                'enroll_sess': sess_enroll,\n",
    "                'auth_sess': sess_auth,\n",
    "\n",
    "                'enroll_user': enrl_row.subject_name,\n",
    "                'enroll_camera_label': enrl_row.camera_label,\n",
    "                'enroll_user_device_camera': enrl_row.user_device_camera,\n",
    "\n",
    "                'auth_user': auth_row.subject_name,\n",
    "                'auth_camera_label': auth_row.camera_label,\n",
    "                'auth_user_device_camera': auth_row.user_device_camera,\n",
    "\n",
    "                'is_same_user': enrl_row.subject_name == auth_row.subject_name,\n",
    "                'is_same_camera_label': enrl_row.camera_label == auth_row.camera_label,\n",
    "                'is_same_user_device_camera': enrl_row.user_device_camera == auth_row.user_device_camera,\n",
    "\n",
    "                'similarity': sim_score, # This is your score\n",
    "            })\n",
    "\n",
    "    return rows\n",
    "\n",
    "pred_df = pd.DataFrame(calculate_scores())\n",
    "pred_df.head(3)\n",
    "\n"
   ]
  },
  {
   "cell_type": "code",
   "execution_count": null,
   "metadata": {},
   "outputs": [],
   "source": []
  }
 ],
 "metadata": {
  "kernelspec": {
   "display_name": ".venv",
   "language": "python",
   "name": "python3"
  },
  "language_info": {
   "codemirror_mode": {
    "name": "ipython",
    "version": 3
   },
   "file_extension": ".py",
   "mimetype": "text/x-python",
   "name": "python",
   "nbconvert_exporter": "python",
   "pygments_lexer": "ipython3",
   "version": "3.11.11"
  }
 },
 "nbformat": 4,
 "nbformat_minor": 2
}
