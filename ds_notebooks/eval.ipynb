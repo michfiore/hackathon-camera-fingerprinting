{
 "cells": [
  {
   "cell_type": "code",
   "execution_count": 1,
   "metadata": {},
   "outputs": [],
   "source": [
    "import pandas as pd"
   ]
  },
  {
   "cell_type": "code",
   "execution_count": 2,
   "metadata": {},
   "outputs": [
    {
     "name": "stdout",
     "output_type": "stream",
     "text": [
      "(77841, 12)\n"
     ]
    },
    {
     "data": {
      "text/html": [
       "<div>\n",
       "<style scoped>\n",
       "    .dataframe tbody tr th:only-of-type {\n",
       "        vertical-align: middle;\n",
       "    }\n",
       "\n",
       "    .dataframe tbody tr th {\n",
       "        vertical-align: top;\n",
       "    }\n",
       "\n",
       "    .dataframe thead th {\n",
       "        text-align: right;\n",
       "    }\n",
       "</style>\n",
       "<table border=\"1\" class=\"dataframe\">\n",
       "  <thead>\n",
       "    <tr style=\"text-align: right;\">\n",
       "      <th></th>\n",
       "      <th>enroll_sess</th>\n",
       "      <th>auth_sess</th>\n",
       "      <th>enroll_user</th>\n",
       "      <th>enroll_camera_label</th>\n",
       "      <th>enroll_user_device_camera</th>\n",
       "      <th>auth_user</th>\n",
       "      <th>auth_camera_label</th>\n",
       "      <th>auth_user_device_camera</th>\n",
       "      <th>is_same_user</th>\n",
       "      <th>is_same_camera_label</th>\n",
       "      <th>is_same_user_device_camera</th>\n",
       "      <th>similarity</th>\n",
       "    </tr>\n",
       "  </thead>\n",
       "  <tbody>\n",
       "    <tr>\n",
       "      <th>0</th>\n",
       "      <td>ahmed.atef@keyless.io_1750871273156_1.0.8</td>\n",
       "      <td>ahmed.atef@keyless.io_1750871273156_1.0.8</td>\n",
       "      <td>ahmed.atef@keyless.io</td>\n",
       "      <td>Camo</td>\n",
       "      <td>ahmed.atef@keyless.io___79a3a0040ddba27de980b1...</td>\n",
       "      <td>ahmed.atef@keyless.io</td>\n",
       "      <td>Camo</td>\n",
       "      <td>ahmed.atef@keyless.io___79a3a0040ddba27de980b1...</td>\n",
       "      <td>True</td>\n",
       "      <td>True</td>\n",
       "      <td>True</td>\n",
       "      <td>0.199839</td>\n",
       "    </tr>\n",
       "    <tr>\n",
       "      <th>1</th>\n",
       "      <td>ahmed.atef@keyless.io_1750871273156_1.0.8</td>\n",
       "      <td>ahmed.atef@keyless.io_1750871501815_1.0.8</td>\n",
       "      <td>ahmed.atef@keyless.io</td>\n",
       "      <td>Camo</td>\n",
       "      <td>ahmed.atef@keyless.io___79a3a0040ddba27de980b1...</td>\n",
       "      <td>ahmed.atef@keyless.io</td>\n",
       "      <td>Camo</td>\n",
       "      <td>ahmed.atef@keyless.io___79a3a0040ddba27de980b1...</td>\n",
       "      <td>True</td>\n",
       "      <td>True</td>\n",
       "      <td>True</td>\n",
       "      <td>0.558290</td>\n",
       "    </tr>\n",
       "    <tr>\n",
       "      <th>2</th>\n",
       "      <td>ahmed.atef@keyless.io_1750871273156_1.0.8</td>\n",
       "      <td>ahmed.atef@keyless.io_1750871561316_1.0.8</td>\n",
       "      <td>ahmed.atef@keyless.io</td>\n",
       "      <td>Camo</td>\n",
       "      <td>ahmed.atef@keyless.io___79a3a0040ddba27de980b1...</td>\n",
       "      <td>ahmed.atef@keyless.io</td>\n",
       "      <td>Fantech Luminous C30 (1d6c:1278)</td>\n",
       "      <td>ahmed.atef@keyless.io___01d1c987f5595b61ccf52e...</td>\n",
       "      <td>True</td>\n",
       "      <td>False</td>\n",
       "      <td>False</td>\n",
       "      <td>0.300454</td>\n",
       "    </tr>\n",
       "  </tbody>\n",
       "</table>\n",
       "</div>"
      ],
      "text/plain": [
       "                                 enroll_sess  \\\n",
       "0  ahmed.atef@keyless.io_1750871273156_1.0.8   \n",
       "1  ahmed.atef@keyless.io_1750871273156_1.0.8   \n",
       "2  ahmed.atef@keyless.io_1750871273156_1.0.8   \n",
       "\n",
       "                                   auth_sess            enroll_user  \\\n",
       "0  ahmed.atef@keyless.io_1750871273156_1.0.8  ahmed.atef@keyless.io   \n",
       "1  ahmed.atef@keyless.io_1750871501815_1.0.8  ahmed.atef@keyless.io   \n",
       "2  ahmed.atef@keyless.io_1750871561316_1.0.8  ahmed.atef@keyless.io   \n",
       "\n",
       "  enroll_camera_label                          enroll_user_device_camera  \\\n",
       "0                Camo  ahmed.atef@keyless.io___79a3a0040ddba27de980b1...   \n",
       "1                Camo  ahmed.atef@keyless.io___79a3a0040ddba27de980b1...   \n",
       "2                Camo  ahmed.atef@keyless.io___79a3a0040ddba27de980b1...   \n",
       "\n",
       "               auth_user                 auth_camera_label  \\\n",
       "0  ahmed.atef@keyless.io                              Camo   \n",
       "1  ahmed.atef@keyless.io                              Camo   \n",
       "2  ahmed.atef@keyless.io  Fantech Luminous C30 (1d6c:1278)   \n",
       "\n",
       "                             auth_user_device_camera  is_same_user  \\\n",
       "0  ahmed.atef@keyless.io___79a3a0040ddba27de980b1...          True   \n",
       "1  ahmed.atef@keyless.io___79a3a0040ddba27de980b1...          True   \n",
       "2  ahmed.atef@keyless.io___01d1c987f5595b61ccf52e...          True   \n",
       "\n",
       "   is_same_camera_label  is_same_user_device_camera  similarity  \n",
       "0                  True                        True    0.199839  \n",
       "1                  True                        True    0.558290  \n",
       "2                 False                       False    0.300454  "
      ]
     },
     "execution_count": 2,
     "metadata": {},
     "output_type": "execute_result"
    }
   ],
   "source": [
    "df = pd.read_parquet('output.parquet')\n",
    "print(df.shape)\n",
    "df.head(3)"
   ]
  },
  {
   "cell_type": "code",
   "execution_count": 3,
   "metadata": {},
   "outputs": [
    {
     "name": "stdout",
     "output_type": "stream",
     "text": [
      "FAR: 50.1%\n",
      "FRR: 50.5%\n"
     ]
    }
   ],
   "source": [
    "def get_FAR_FRR(df, pred_col='similarity', target_col='is_same_user_device_camera'):\n",
    "    targets = df[target_col]\n",
    "    pred_proba = df[pred_col]\n",
    "    \n",
    "    thr = 0.5\n",
    "\n",
    "    preds = pred_proba > thr\n",
    "    TP = sum((targets == True) & (preds == True))\n",
    "    FP = sum((targets == False) & (preds == True))\n",
    "    TN = sum((targets == False) & (preds == False))\n",
    "    FN = sum((targets == True) & (preds == False))\n",
    "\n",
    "    FAR = FP / (TN + FP)\n",
    "    FRR = FN / (TP + FN)\n",
    "\n",
    "    print(f'FAR: {FAR:.1%}')\n",
    "    print(f'FRR: {FRR:.1%}')\n",
    "\n",
    "get_FAR_FRR(df)"
   ]
  },
  {
   "cell_type": "code",
   "execution_count": null,
   "metadata": {},
   "outputs": [],
   "source": []
  }
 ],
 "metadata": {
  "kernelspec": {
   "display_name": ".venv",
   "language": "python",
   "name": "python3"
  },
  "language_info": {
   "codemirror_mode": {
    "name": "ipython",
    "version": 3
   },
   "file_extension": ".py",
   "mimetype": "text/x-python",
   "name": "python",
   "nbconvert_exporter": "python",
   "pygments_lexer": "ipython3",
   "version": "3.11.11"
  }
 },
 "nbformat": 4,
 "nbformat_minor": 2
}
