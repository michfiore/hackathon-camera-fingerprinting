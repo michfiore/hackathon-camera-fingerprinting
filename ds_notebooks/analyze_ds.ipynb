{
 "cells": [
  {
   "cell_type": "code",
   "execution_count": null,
   "metadata": {},
   "outputs": [],
   "source": [
    "import datasets\n",
    "import json\n",
    "\n",
    "import os\n",
    "import pandas as pd"
   ]
  },
  {
   "cell_type": "code",
   "execution_count": null,
   "metadata": {},
   "outputs": [],
   "source": [
    "%env HF_HOME ~/hf_datasets"
   ]
  },
  {
   "cell_type": "code",
   "execution_count": null,
   "metadata": {},
   "outputs": [],
   "source": [
    "ds_uri = 's3://sagemaker-production-eu-central-1-kl-biometric-datasets/raw_datasets/face_biometrics/web_internal_dc_2025-06-12/hf_dataset/'\n",
    "\n",
    "# 4fps rotated\n",
    "ds_uri = 's3://sagemaker-production-eu-central-1-kl-biometric-experiments/pipeline_data/main/lr_eval_single_model/20250703-071904/filter_fps/web_internal_dc_2025-06-12_4fps/hf_dataset/'\n",
    "\n",
    "output_uri = 's3://sagemaker-production-eu-central-1-kl-biometric-datasets/raw_datasets/face_biometrics/hackathon_2025-07_camera_fingerprint/'"
   ]
  },
  {
   "cell_type": "code",
   "execution_count": null,
   "metadata": {},
   "outputs": [],
   "source": [
    "%%time\n",
    "ds = datasets.load_from_disk(ds_uri)"
   ]
  },
  {
   "cell_type": "code",
   "execution_count": null,
   "metadata": {},
   "outputs": [],
   "source": [
    "ds[0][\"img_raw\"]"
   ]
  },
  {
   "cell_type": "code",
   "execution_count": null,
   "metadata": {},
   "outputs": [],
   "source": [
    "len(ds)"
   ]
  },
  {
   "cell_type": "markdown",
   "metadata": {},
   "source": [
    "## Add device info"
   ]
  },
  {
   "cell_type": "code",
   "execution_count": null,
   "metadata": {},
   "outputs": [],
   "source": [
    "test_users = ['ahmed.atef@keyless.io', 'milan.sekulic@keyless.io', 'douglas.fairchild@keyless.io', 'jacopo.barto@keyless.io', 'vojtech.orgon@keyless.io', 'dario@keyless.io']\n"
   ]
  },
  {
   "cell_type": "code",
   "execution_count": null,
   "metadata": {},
   "outputs": [],
   "source": [
    "\n",
    "\n",
    "def process_row(row):\n",
    "    dm = json.loads(row['device_metadata'])\n",
    "    row[\"camera_label\"] = dm.get('media', {}).get('device', {}).get('info', {}).get('label')\n",
    "    row[\"camera_device_id\"] = dm.get('media', {}).get('device', {}).get('info', {}).get('deviceId')\n",
    "\n",
    "    row[\"user_agent\"] = dm.get('navigator', {}).get('userAgent')\n",
    "\n",
    "    parsed_ua = dm.get('navigator', {}).get('userAgentParsed', {})\n",
    "    row[\"browser_name\"] = parsed_ua.get('browser', {}).get('name')\n",
    "    row[\"device_model\"] = parsed_ua.get('device', {}).get('model')\n",
    "    row[\"device_vendor\"] = parsed_ua.get('device', {}).get('vendor')\n",
    "    row[\"os_name\"] = parsed_ua.get('os', {}).get('name')\n",
    "    row[\"os_version\"] = parsed_ua.get('os', {}).get('version')\n",
    "    row[\"user_device_camera\"] = f'{row[\"subject_name\"]}___{row[\"camera_device_id\"]}'\n",
    "\n",
    "    #if row[\"os_name\"].lower() == 'ios':\n",
    "    #    row[\"img_raw\"] = row[\"img_raw\"].rotate(270)\n",
    "\n",
    "    row[\"split\"] = \"test\" if row[\"subject_name\"] in test_users else \"train\"\n",
    "    row[\"img_w\"] = row[\"img_raw\"].width\n",
    "    row[\"img_h\"] = row[\"img_raw\"].height\n",
    "    row[\"img_wh\"] = f'{row[\"img_w\"]}x{row[\"img_h\"]}'\n",
    "    return row\n",
    "\n",
    "\n",
    "d = json.loads(ds[0]['device_metadata'])\n",
    "d.get('media', {}).get('device', {}).get('info', {}).get('label')\n"
   ]
  },
  {
   "cell_type": "code",
   "execution_count": null,
   "metadata": {},
   "outputs": [],
   "source": [
    "ds = ds.map(process_row, num_proc=os.cpu_count()-1)"
   ]
  },
  {
   "cell_type": "markdown",
   "metadata": {},
   "source": [
    "## Analysis"
   ]
  },
  {
   "cell_type": "code",
   "execution_count": null,
   "metadata": {},
   "outputs": [],
   "source": [
    "%%time\n",
    "df = ds.to_pandas()\n",
    "print(df.shape)\n",
    "df.head(3)"
   ]
  },
  {
   "cell_type": "code",
   "execution_count": null,
   "metadata": {},
   "outputs": [],
   "source": [
    "print(f'unique users: {len(set(df.subject_name))}')\n",
    "print(f'unique sessions: {len(set(df.session_folder))}')\n",
    "print(f'unique camera labels: {len(set(df.camera_label))}')\n",
    "print(f'unique camera device ids: {len(set(df.camera_device_id))}')\n",
    "print(f'unique camera user devices: {len(set(df.user_device_camera))}')\n"
   ]
  },
  {
   "cell_type": "code",
   "execution_count": null,
   "metadata": {},
   "outputs": [],
   "source": [
    "(df\n",
    "    .groupby('subject_name')\n",
    "    .agg({'session_folder': 'nunique', 'photo_name': 'nunique', 'camera_device_id': 'nunique'})\n",
    "    .sort_values(by=['session_folder', 'photo_name'], ascending=False)\n",
    ")"
   ]
  },
  {
   "cell_type": "markdown",
   "metadata": {},
   "source": [
    "## Dataset splits"
   ]
  },
  {
   "cell_type": "code",
   "execution_count": null,
   "metadata": {},
   "outputs": [],
   "source": [
    "important_columns = [\n",
    "    'subject_name', 'session_folder', 'photo_name', # user / session / frame ids\n",
    "    'gif_link', 'file_timestamp_within_session_ms', 'frame_number', # frame info\n",
    "    'device_metadata', # json string with all the device metadata info\n",
    "    'camera_device_id', 'camera_label', 'user_device_camera', # camera info parsed from device metadata\n",
    "    'os_name', 'os_version', # os info\n",
    "    'img_w', 'img_h', 'img_wh', # img info\n",
    "\n",
    "]"
   ]
  },
  {
   "cell_type": "code",
   "execution_count": null,
   "metadata": {},
   "outputs": [],
   "source": [
    "df[important_columns].head(3)"
   ]
  },
  {
   "cell_type": "code",
   "execution_count": null,
   "metadata": {},
   "outputs": [],
   "source": [
    "%%time\n",
    "ds.save_to_disk(output_uri)\n",
    "print(f'saved to \"{output_uri}\"')"
   ]
  },
  {
   "cell_type": "code",
   "execution_count": null,
   "metadata": {},
   "outputs": [],
   "source": []
  }
 ],
 "metadata": {
  "kernelspec": {
   "display_name": ".venv",
   "language": "python",
   "name": "python3"
  },
  "language_info": {
   "codemirror_mode": {
    "name": "ipython",
    "version": 3
   },
   "file_extension": ".py",
   "mimetype": "text/x-python",
   "name": "python",
   "nbconvert_exporter": "python",
   "pygments_lexer": "ipython3",
   "version": "3.11.11"
  }
 },
 "nbformat": 4,
 "nbformat_minor": 2
}
